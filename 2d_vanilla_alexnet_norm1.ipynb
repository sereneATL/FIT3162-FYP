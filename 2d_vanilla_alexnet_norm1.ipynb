{
 "cells": [
  {
   "cell_type": "markdown",
   "metadata": {},
   "source": [
    "# 2D Vanilla Alexnet Training Script - Normalization Method 1\n",
    "\n",
    "Here the 2D Alexnet model is implemeted using the parameters described in the original Alexnet paper. The data loaded has gone through all the preprocessing steps and is ready to be fed into the CNN without any further steps.\n",
    "\n",
    "This data has been preprocessed using the normalization range of -1454, 3071 (i.e. the true min and max of the data)."
   ]
  },
  {
   "cell_type": "code",
   "execution_count": 1,
   "metadata": {},
   "outputs": [
    {
     "name": "stderr",
     "output_type": "stream",
     "text": [
      "Using TensorFlow backend.\n"
     ]
    }
   ],
   "source": [
    "import tensorflow as tf\n",
    "import numpy as np\n",
    "import keras\n",
    "from keras.models import load_model\n",
    "from tensorflow.python.keras.layers import Flatten, Conv2D, MaxPooling2D, Dropout, Input, Dense, Activation\n",
    "from tensorflow.python.keras.models import Sequential, load_model\n",
    "from keras.callbacks import EarlyStopping, ModelCheckpoint\n",
    "from keras.callbacks import LearningRateScheduler, ReduceLROnPlateau\n",
    "from keras.regularizers import l2\n",
    "import matplotlib.pyplot as plt"
   ]
  },
  {
   "cell_type": "code",
   "execution_count": 2,
   "metadata": {},
   "outputs": [],
   "source": [
    "training_images_final = np.load(\"2d_training_data_1.npy\")\n",
    "training_labels = np.load(\"2d_training_labels_1.npy\")\n",
    "testing_images_final = np.load(\"2d_testing_data_1.npy\")\n",
    "testing_labels = np.load(\"2d_testing_labels_1.npy\")"
   ]
  },
  {
   "cell_type": "markdown",
   "metadata": {},
   "source": [
    "The callbacks are defined below.\n",
    "\n",
    "Early stopping monitors validation accuracy and automatically quits the training process if the validation accuracy has remained constant/has decreased for 5 consecutive epochs. Validation accuracy is used instead of loss here as the model failed to converge using validation loss monitoring, and continued training until the validation accuracy started decreasing (possible overfitting).\n",
    "\n",
    "Model checkpoint saves the model that performs the best on the validation dataset.\n",
    "\n",
    "Lr_reduction reduces the learning rate by a factor of 0.1 every time the validation loss has remained constant/has increased for 2 consecutive epochs."
   ]
  },
  {
   "cell_type": "code",
   "execution_count": null,
   "metadata": {},
   "outputs": [],
   "source": [
    "early_stopping = EarlyStopping(monitor='val_acc', patience=5, mode='max', verbose=1)\n",
    "model_checkpoint = ModelCheckpoint(filepath='2d_alexnet_vanilla_1.h5', monitor='val_acc', save_best_only=True, verbose=1)\n",
    "lr_reduction = ReduceLROnPlateau(monitor='val_loss', patience=2, verbose=1, factor=0.1, min_lr=0.00001)"
   ]
  },
  {
   "cell_type": "markdown",
   "metadata": {},
   "source": [
    "The model is implemented and trained below. Training logs were preserved.\n",
    "\n",
    "In accordance with the original parameters, weight decay is implemented in all the fully connected layers, the learning rate is automatically decreased in training, and a SGD optimization function with a momentum of 0.9 is used. "
   ]
  },
  {
   "cell_type": "code",
   "execution_count": 4,
   "metadata": {},
   "outputs": [
    {
     "name": "stdout",
     "output_type": "stream",
     "text": [
      "Train on 9979 samples, validate on 1762 samples\n",
      "Epoch 1/50\n",
      "9856/9979 [============================>.] - ETA: 0s - loss: 135.0024 - acc: 0.6391\n",
      "Epoch 00001: val_acc improved from -inf to 0.64018, saving model to 2d_alexnet_vanilla_1.h5\n",
      "9979/9979 [==============================] - 77s 8ms/sample - loss: 134.7764 - acc: 0.6395 - val_loss: 116.2308 - val_acc: 0.6402\n",
      "Epoch 2/50\n",
      "9856/9979 [============================>.] - ETA: 0s - loss: 99.6025 - acc: 0.6689\n",
      "Epoch 00002: val_acc improved from 0.64018 to 0.79909, saving model to 2d_alexnet_vanilla_1.h5\n",
      "9979/9979 [==============================] - 76s 8ms/sample - loss: 99.4031 - acc: 0.6702 - val_loss: 82.9721 - val_acc: 0.7991\n",
      "Epoch 3/50\n",
      "9856/9979 [============================>.] - ETA: 0s - loss: 69.1124 - acc: 0.8187\n",
      "Epoch 00003: val_acc improved from 0.79909 to 0.82406, saving model to 2d_alexnet_vanilla_1.h5\n",
      "9979/9979 [==============================] - 76s 8ms/sample - loss: 68.9484 - acc: 0.8191 - val_loss: 55.5131 - val_acc: 0.8241\n",
      "Epoch 4/50\n",
      "9856/9979 [============================>.] - ETA: 0s - loss: 44.3936 - acc: 0.8441\n",
      "Epoch 00004: val_acc improved from 0.82406 to 0.86436, saving model to 2d_alexnet_vanilla_1.h5\n",
      "9979/9979 [==============================] - 77s 8ms/sample - loss: 44.2656 - acc: 0.8441 - val_loss: 33.6654 - val_acc: 0.8644\n",
      "Epoch 5/50\n",
      "9856/9979 [============================>.] - ETA: 0s - loss: 25.3614 - acc: 0.8520\n",
      "Epoch 00005: val_acc did not improve from 0.86436\n",
      "9979/9979 [==============================] - 75s 8ms/sample - loss: 25.2678 - acc: 0.8516 - val_loss: 17.5613 - val_acc: 0.8428\n",
      "Epoch 6/50\n",
      "9856/9979 [============================>.] - ETA: 0s - loss: 11.9841 - acc: 0.8568\n",
      "Epoch 00006: val_acc improved from 0.86436 to 0.86493, saving model to 2d_alexnet_vanilla_1.h5\n",
      "9979/9979 [==============================] - 76s 8ms/sample - loss: 11.9251 - acc: 0.8567 - val_loss: 7.0839 - val_acc: 0.8649\n",
      "Epoch 7/50\n",
      "9856/9979 [============================>.] - ETA: 0s - loss: 4.2866 - acc: 0.8591\n",
      "Epoch 00007: val_acc did not improve from 0.86493\n",
      "9979/9979 [==============================] - 75s 8ms/sample - loss: 4.2627 - acc: 0.8592 - val_loss: 2.2570 - val_acc: 0.8593\n",
      "Epoch 8/50\n",
      "9856/9979 [============================>.] - ETA: 0s - loss: 1.5193 - acc: 0.8602\n",
      "Epoch 00008: val_acc improved from 0.86493 to 0.87003, saving model to 2d_alexnet_vanilla_1.h5\n",
      "9979/9979 [==============================] - 76s 8ms/sample - loss: 1.5123 - acc: 0.8602 - val_loss: 0.8826 - val_acc: 0.8700\n",
      "Epoch 9/50\n",
      "9856/9979 [============================>.] - ETA: 0s - loss: 0.6378 - acc: 0.8630\n",
      "Epoch 00009: val_acc improved from 0.87003 to 0.87514, saving model to 2d_alexnet_vanilla_1.h5\n",
      "9979/9979 [==============================] - 76s 8ms/sample - loss: 0.6350 - acc: 0.8639 - val_loss: 0.4683 - val_acc: 0.8751\n",
      "Epoch 10/50\n",
      "9856/9979 [============================>.] - ETA: 0s - loss: 0.4950 - acc: 0.8558\n",
      "Epoch 00010: val_acc did not improve from 0.87514\n",
      "9979/9979 [==============================] - 75s 8ms/sample - loss: 0.4939 - acc: 0.8566 - val_loss: 0.4386 - val_acc: 0.8638\n",
      "Epoch 11/50\n",
      "9856/9979 [============================>.] - ETA: 0s - loss: 0.4633 - acc: 0.8603\n",
      "Epoch 00011: val_acc improved from 0.87514 to 0.88025, saving model to 2d_alexnet_vanilla_1.h5\n",
      "9979/9979 [==============================] - 76s 8ms/sample - loss: 0.4630 - acc: 0.8609 - val_loss: 0.4100 - val_acc: 0.8802\n",
      "Epoch 12/50\n",
      "9856/9979 [============================>.] - ETA: 0s - loss: 0.4483 - acc: 0.8634\n",
      "Epoch 00012: val_acc did not improve from 0.88025\n",
      "9979/9979 [==============================] - 75s 8ms/sample - loss: 0.4491 - acc: 0.8632 - val_loss: 0.4262 - val_acc: 0.8734\n",
      "Epoch 13/50\n",
      "9856/9979 [============================>.] - ETA: 0s - loss: 0.4302 - acc: 0.8718\n",
      "Epoch 00013: val_acc did not improve from 0.88025\n",
      "9979/9979 [==============================] - 75s 8ms/sample - loss: 0.4307 - acc: 0.8718 - val_loss: 0.4045 - val_acc: 0.8757\n",
      "Epoch 14/50\n",
      "9856/9979 [============================>.] - ETA: 0s - loss: 0.4268 - acc: 0.8726\n",
      "Epoch 00014: val_acc improved from 0.88025 to 0.88649, saving model to 2d_alexnet_vanilla_1.h5\n",
      "9979/9979 [==============================] - 77s 8ms/sample - loss: 0.4271 - acc: 0.8726 - val_loss: 0.3883 - val_acc: 0.8865\n",
      "Epoch 15/50\n",
      "9856/9979 [============================>.] - ETA: 0s - loss: 0.4205 - acc: 0.8750\n",
      "Epoch 00015: val_acc did not improve from 0.88649\n",
      "9979/9979 [==============================] - 76s 8ms/sample - loss: 0.4200 - acc: 0.8754 - val_loss: 0.4016 - val_acc: 0.8751\n",
      "Epoch 16/50\n",
      "9856/9979 [============================>.] - ETA: 0s - loss: 0.4216 - acc: 0.8727\n",
      "Epoch 00016: val_acc did not improve from 0.88649\n",
      "\n",
      "Epoch 00016: ReduceLROnPlateau reducing learning rate to 0.0009999999776482583.\n",
      "9979/9979 [==============================] - 76s 8ms/sample - loss: 0.4212 - acc: 0.8729 - val_loss: 0.4020 - val_acc: 0.8837\n",
      "Epoch 17/50\n",
      "9856/9979 [============================>.] - ETA: 0s - loss: 0.4110 - acc: 0.8706\n",
      "Epoch 00017: val_acc did not improve from 0.88649\n",
      "9979/9979 [==============================] - 76s 8ms/sample - loss: 0.4124 - acc: 0.8697 - val_loss: 0.3309 - val_acc: 0.8802\n",
      "Epoch 18/50\n",
      "9856/9979 [============================>.] - ETA: 0s - loss: 0.3439 - acc: 0.8849\n",
      "Epoch 00018: val_acc improved from 0.88649 to 0.89047, saving model to 2d_alexnet_vanilla_1.h5\n",
      "9979/9979 [==============================] - 76s 8ms/sample - loss: 0.3430 - acc: 0.8855 - val_loss: 0.3228 - val_acc: 0.8905\n",
      "Epoch 19/50\n",
      "9856/9979 [============================>.] - ETA: 0s - loss: 0.3387 - acc: 0.8892\n",
      "Epoch 00019: val_acc did not improve from 0.89047\n",
      "9979/9979 [==============================] - 75s 8ms/sample - loss: 0.3396 - acc: 0.8890 - val_loss: 0.3232 - val_acc: 0.8888\n",
      "Epoch 20/50\n",
      "9856/9979 [============================>.] - ETA: 0s - loss: 0.3331 - acc: 0.8889\n",
      "Epoch 00020: val_acc improved from 0.89047 to 0.89330, saving model to 2d_alexnet_vanilla_1.h5\n",
      "9979/9979 [==============================] - 76s 8ms/sample - loss: 0.3334 - acc: 0.8890 - val_loss: 0.3169 - val_acc: 0.8933\n",
      "Epoch 21/50\n",
      "9856/9979 [============================>.] - ETA: 0s - loss: 0.3309 - acc: 0.8921\n",
      "Epoch 00021: val_acc improved from 0.89330 to 0.89387, saving model to 2d_alexnet_vanilla_1.h5\n",
      "9979/9979 [==============================] - 76s 8ms/sample - loss: 0.3311 - acc: 0.8922 - val_loss: 0.3126 - val_acc: 0.8939\n",
      "Epoch 22/50\n",
      "9856/9979 [============================>.] - ETA: 0s - loss: 0.3315 - acc: 0.8889\n",
      "Epoch 00022: val_acc did not improve from 0.89387\n",
      "9979/9979 [==============================] - 76s 8ms/sample - loss: 0.3307 - acc: 0.8895 - val_loss: 0.3153 - val_acc: 0.8927\n",
      "Epoch 23/50\n",
      "9856/9979 [============================>.] - ETA: 0s - loss: 0.3244 - acc: 0.8908\n",
      "Epoch 00023: val_acc did not improve from 0.89387\n",
      "9979/9979 [==============================] - 75s 8ms/sample - loss: 0.3253 - acc: 0.8910 - val_loss: 0.3100 - val_acc: 0.8922\n",
      "Epoch 24/50\n",
      "9856/9979 [============================>.] - ETA: 0s - loss: 0.3233 - acc: 0.8934\n",
      "Epoch 00024: val_acc did not improve from 0.89387\n",
      "9979/9979 [==============================] - 75s 8ms/sample - loss: 0.3232 - acc: 0.8931 - val_loss: 0.3090 - val_acc: 0.8933\n",
      "Epoch 25/50\n",
      "9856/9979 [============================>.] - ETA: 0s - loss: 0.3239 - acc: 0.8909\n",
      "Epoch 00025: val_acc improved from 0.89387 to 0.89557, saving model to 2d_alexnet_vanilla_1.h5\n",
      "9979/9979 [==============================] - 77s 8ms/sample - loss: 0.3239 - acc: 0.8909 - val_loss: 0.3072 - val_acc: 0.8956\n",
      "Epoch 26/50\n",
      "9856/9979 [============================>.] - ETA: 0s - loss: 0.3203 - acc: 0.8939\n",
      "Epoch 00026: val_acc did not improve from 0.89557\n",
      "9979/9979 [==============================] - 75s 8ms/sample - loss: 0.3205 - acc: 0.8938 - val_loss: 0.3054 - val_acc: 0.8956\n",
      "Epoch 27/50\n",
      "9856/9979 [============================>.] - ETA: 0s - loss: 0.3211 - acc: 0.8925\n",
      "Epoch 00027: val_acc improved from 0.89557 to 0.89614, saving model to 2d_alexnet_vanilla_1.h5\n",
      "9979/9979 [==============================] - 77s 8ms/sample - loss: 0.3196 - acc: 0.8933 - val_loss: 0.3044 - val_acc: 0.8961\n",
      "Epoch 28/50\n",
      "9856/9979 [============================>.] - ETA: 0s - loss: 0.3214 - acc: 0.8911\n",
      "Epoch 00028: val_acc did not improve from 0.89614\n",
      "9979/9979 [==============================] - 76s 8ms/sample - loss: 0.3208 - acc: 0.8914 - val_loss: 0.3032 - val_acc: 0.8961\n",
      "Epoch 29/50\n",
      "9856/9979 [============================>.] - ETA: 0s - loss: 0.3176 - acc: 0.8928\n",
      "Epoch 00029: val_acc did not improve from 0.89614\n",
      "9979/9979 [==============================] - 75s 8ms/sample - loss: 0.3181 - acc: 0.8927 - val_loss: 0.3039 - val_acc: 0.8961\n",
      "Epoch 30/50\n",
      "9856/9979 [============================>.] - ETA: 0s - loss: 0.3176 - acc: 0.8944\n",
      "Epoch 00030: val_acc improved from 0.89614 to 0.89784, saving model to 2d_alexnet_vanilla_1.h5\n",
      "9979/9979 [==============================] - 78s 8ms/sample - loss: 0.3174 - acc: 0.8942 - val_loss: 0.3015 - val_acc: 0.8978\n",
      "Epoch 31/50\n",
      "9856/9979 [============================>.] - ETA: 0s - loss: 0.3147 - acc: 0.8954\n",
      "Epoch 00031: val_acc did not improve from 0.89784\n",
      "9979/9979 [==============================] - 76s 8ms/sample - loss: 0.3145 - acc: 0.8955 - val_loss: 0.3013 - val_acc: 0.8973\n",
      "Epoch 32/50\n",
      "9856/9979 [============================>.] - ETA: 0s - loss: 0.3127 - acc: 0.8974\n",
      "Epoch 00032: val_acc did not improve from 0.89784\n",
      "9979/9979 [==============================] - 75s 8ms/sample - loss: 0.3137 - acc: 0.8971 - val_loss: 0.3000 - val_acc: 0.8961\n",
      "Epoch 33/50\n",
      "9856/9979 [============================>.] - ETA: 0s - loss: 0.3119 - acc: 0.8970\n",
      "Epoch 00033: val_acc did not improve from 0.89784\n",
      "9979/9979 [==============================] - 76s 8ms/sample - loss: 0.3127 - acc: 0.8969 - val_loss: 0.2992 - val_acc: 0.8973\n",
      "Epoch 34/50\n",
      "9856/9979 [============================>.] - ETA: 0s - loss: 0.3094 - acc: 0.8975\n",
      "Epoch 00034: val_acc did not improve from 0.89784\n",
      "9979/9979 [==============================] - 75s 8ms/sample - loss: 0.3096 - acc: 0.8976 - val_loss: 0.3056 - val_acc: 0.8967\n",
      "Epoch 35/50\n",
      "9856/9979 [============================>.] - ETA: 0s - loss: 0.3121 - acc: 0.8933\n",
      "Epoch 00035: val_acc did not improve from 0.89784\n",
      "\n",
      "Epoch 00035: ReduceLROnPlateau reducing learning rate to 9.999999310821295e-05.\n",
      "9979/9979 [==============================] - 76s 8ms/sample - loss: 0.3119 - acc: 0.8934 - val_loss: 0.2999 - val_acc: 0.8956\n",
      "Epoch 00035: early stopping\n"
     ]
    }
   ],
   "source": [
    "batch_size = 128\n",
    "no_epochs = 50\n",
    "learning_rate = 0.01\n",
    "no_classes = 2\n",
    "validation_split = 0.15\n",
    "verbosity = 1\n",
    "X_train = training_images_final\n",
    "callbacks = [early_stopping, model_checkpoint, lr_reduction]\n",
    "    \n",
    "model = Sequential()\n",
    "\n",
    "model.add(Conv2D(filters=96, input_shape=(227,227,3), kernel_size=(11,11), strides=(4,4), padding='valid'))\n",
    "model.add(Activation('relu'))\n",
    "model.add(MaxPooling2D(pool_size=(2,2), strides=(2,2), padding='valid'))\n",
    "\n",
    "model.add(Conv2D(filters=256, kernel_size=(5,5), strides=(1,1), padding='valid'))\n",
    "model.add(Activation('relu'))\n",
    "model.add(MaxPooling2D(pool_size=(2,2), strides=(2,2), padding='valid'))\n",
    "\n",
    "model.add(Conv2D(filters=384, kernel_size=(3,3), strides=(1,1), padding='valid'))\n",
    "model.add(Activation('relu'))\n",
    "\n",
    "model.add(Conv2D(filters=384, kernel_size=(3,3), strides=(1,1), padding='valid'))\n",
    "model.add(Activation('relu'))\n",
    "\n",
    "model.add(Conv2D(filters=256, kernel_size=(3,3), strides=(1,1), padding='valid'))\n",
    "model.add(Activation('relu'))\n",
    "model.add(MaxPooling2D(pool_size=(2,2), strides=(2,2), padding='valid'))\n",
    "\n",
    "model.add(Flatten())\n",
    "\n",
    "model.add(Dense(4096, input_shape=(227*227*3,), kernel_regularizer=l2(0.0005)))\n",
    "model.add(Activation('relu'))\n",
    "model.add(Dropout(0.5))\n",
    "\n",
    "model.add(Dense(4096, kernel_regularizer=l2(0.0005)))\n",
    "model.add(Activation('relu'))\n",
    "model.add(Dropout(0.5))\n",
    "\n",
    "model.add(Dense(no_classes, activation='softmax', kernel_regularizer=l2(0.0005)))\n",
    "\n",
    "model.compile(loss=keras.losses.binary_crossentropy, optimizer=tf.keras.optimizers.SGD(lr=learning_rate, momentum=0.9), metrics=['acc'])\n",
    "\n",
    "history = model.fit(training_images_final, training_labels,\n",
    "            batch_size=batch_size,\n",
    "            epochs=no_epochs,\n",
    "            verbose=verbosity,\n",
    "            validation_split=validation_split,\n",
    "            callbacks=callbacks)"
   ]
  },
  {
   "cell_type": "code",
   "execution_count": 5,
   "metadata": {},
   "outputs": [
    {
     "data": {
      "image/png": "[encoded data removed]",
      "text/plain": [
       "<Figure size 432x288 with 1 Axes>"
      ]
     },
     "metadata": {
      "needs_background": "light"
     },
     "output_type": "display_data"
    }
   ],
   "source": [
    "plt.plot(history.history['acc'], label='Accuracy (training data)')\n",
    "plt.plot(history.history['val_acc'], label='Accuracy (validation data)')\n",
    "plt.title('Model performance for 2D CT Scan Cancer Detection')\n",
    "plt.ylabel('Loss value')\n",
    "plt.xlabel('No. epoch')\n",
    "plt.legend(loc=\"lower left\", bbox_to_anchor=(0.5,1.2))\n",
    "plt.show()"
   ]
  },
  {
   "cell_type": "markdown",
   "metadata": {},
   "source": [
    "The model has now been trained. It is then tested on unseen data in order to obtain the final testing accuracy."
   ]
  },
  {
   "cell_type": "code",
   "execution_count": 6,
   "metadata": {},
   "outputs": [
    {
     "name": "stdout",
     "output_type": "stream",
     "text": [
      "2936/2936 [==============================] - 5s 2ms/sample - loss: 0.2986 - acc: 0.9036\n",
      "Test results - Loss: 0.29862233549762485 - Accuracy: 90.3610348701477%\n"
     ]
    }
   ],
   "source": [
    "test_results = model.evaluate(testing_images_final, testing_labels, verbose=1)\n",
    "print(f'Test results - Loss: {test_results[0]} - Accuracy: {test_results[1]*100}%')"
   ]
  },
  {
   "cell_type": "markdown",
   "metadata": {},
   "source": [
    "Finally, further performance metrics are evaluated using the functions below. These metrics are:\n",
    "\n",
    "Sensitivity: The ability of the model to classify a nodule as malignant when it is actually malignant (TP / (TP+FN))\n",
    "\n",
    "Specificity: The ability of the model to classify a nodule as benign when it is actually benign (TN/ (TN+FP))\n",
    "\n",
    "Precision: The accuracy of the model with regards to identifying malignant cases (i.e., how many of the predicted malignant nodules are actually malignant?) \n",
    "(TP / (TP+FP))"
   ]
  },
  {
   "cell_type": "code",
   "execution_count": 2,
   "metadata": {},
   "outputs": [],
   "source": [
    "# parameters:\n",
    "# arg1: labels: a list of one-hot encoded binary vectors corresponding to the actual labels of the testing data\n",
    "# arg2: positive: True for positive labels (i.e. malignant), False for negative labels (i.e. benign)\n",
    "\n",
    "# returns: \n",
    "# the number of malignant or benign cases in a one-hot encoded testing labels array\n",
    "\n",
    "def get_true_labels(labels,positive=True):\n",
    "    count = 0\n",
    "    if positive == True:\n",
    "        for x in labels:\n",
    "            if x[1] == 1:\n",
    "                count += 1\n",
    "    else:\n",
    "        for x in labels:\n",
    "            if x[1] == 0:\n",
    "                count += 1\n",
    "    return count\n",
    "\n",
    "# parameters:\n",
    "# arg1: actual_labels: a list of one-hot encoded binary vectors corresponding to the actual labels of the testing data\n",
    "# arg2: predicted_labels: a list of integers corresponding to the predictions of the model on the testing data (0=benign, 1=cancer)\n",
    "\n",
    "# returns: \n",
    "# the sensitivity of the model, defined as (TP / (TP+FN))\n",
    "\n",
    "def get_sensitivity(actual_labels, predicted_labels):\n",
    "    total_positives = get_true_labels(actual_labels)\n",
    "    true_positives = 0\n",
    "    for i in range(len(predicted_labels)):\n",
    "        if list(actual_labels[i]) == [0,1] and predicted_labels[i] == 1:\n",
    "            true_positives += 1\n",
    "    return true_positives/total_positives\n",
    "\n",
    "# parameters:\n",
    "# arg1: actual_labels: a list of one-hot encoded binary vectors corresponding to the actual labels of the testing data\n",
    "# arg2: predicted_labels: a list of integers corresponding to the predictions of the model on the testing data (0=benign, 1=cancer)\n",
    "\n",
    "# returns: \n",
    "# the specificity of the model, defined as (TN/ (TN+FP))\n",
    "\n",
    "def get_specificity(actual_labels, predicted_labels):\n",
    "    total_negatives = get_true_labels(actual_labels, False)\n",
    "    true_negatives = 0\n",
    "    for i in range(len(predicted_labels)):\n",
    "        if list(actual_labels[i]) == [1,0] and predicted_labels[i] == 0:\n",
    "            true_negatives += 1\n",
    "    return true_negatives/total_negatives\n",
    "\n",
    "# parameters:\n",
    "# arg1: actual_labels: a list of one-hot encoded binary vectors corresponding to the actual labels of the testing data\n",
    "# arg2: predicted_labels: a list of integers corresponding to the predictions of the model on the testing data (0=benign, 1=cancer)\n",
    "\n",
    "# returns: \n",
    "# the precision of the model, defined as (TP / (TP+FP))\n",
    "\n",
    "def get_precision(actual_labels, predicted_labels):\n",
    "    true_positives = 0\n",
    "    false_positives = 0\n",
    "    for i in range(len(predicted_labels)):\n",
    "        if list(actual_labels[i]) == [0,1] and predicted_labels[i] == 1:\n",
    "            true_positives += 1\n",
    "        if list(actual_labels[i]) == [1,0] and predicted_labels[i] == 1:\n",
    "            false_positives += 1\n",
    "    return true_positives/(true_positives+false_positives)"
   ]
  },
  {
   "cell_type": "markdown",
   "metadata": {},
   "source": [
    "The list of model predictions is obtained and, along with the actual labels, is used to derive the performance metrics of the model."
   ]
  },
  {
   "cell_type": "code",
   "execution_count": 8,
   "metadata": {},
   "outputs": [
    {
     "name": "stdout",
     "output_type": "stream",
     "text": [
      "0.9347480106100796 0.8477640342530923 0.9167533818938606\n"
     ]
    }
   ],
   "source": [
    "predicted_labels = model.predict_classes(testing_images_final)\n",
    "\n",
    "sensitivity = get_sensitivity(testing_labels, predicted_labels)\n",
    "specificity = get_specificity(testing_labels, predicted_labels)\n",
    "precision = get_precision(testing_labels, predicted_labels)\n",
    "print(sensitivity, specificity, precision)"
   ]
  },
  {
   "cell_type": "markdown",
   "metadata": {},
   "source": [
    "Finally, the performance metrics are saved."
   ]
  },
  {
   "cell_type": "code",
   "execution_count": 9,
   "metadata": {},
   "outputs": [],
   "source": [
    "f= open(\"2D_AlexNet_Results_Norm1.txt\",\"w+\")\n",
    "f.write(\"2D AlexNet Performance Metrics\\n\")\n",
    "f.write(\"Loss: {0}\\n\".format(test_results[0]))\n",
    "f.write(\"Accuracy: {0}\\n\".format(test_results[1]*100))\n",
    "f.write(\"Sensitivity: {0}\\n\".format(sensitivity))\n",
    "f.write(\"Specificity: {0}\\n\".format(specificity))\n",
    "f.write(\"Precision: {0}\\n\".format(precision))\n",
    "f.close()"
   ]
  }
 ],
 "metadata": {
  "kernelspec": {
   "display_name": "Python 3",
   "language": "python",
   "name": "python3"
  },
  "language_info": {
   "codemirror_mode": {
    "name": "ipython",
    "version": 3
   },
   "file_extension": ".py",
   "mimetype": "text/x-python",
   "name": "python",
   "nbconvert_exporter": "python",
   "pygments_lexer": "ipython3",
   "version": "3.7.3"
  }
 },
 "nbformat": 4,
 "nbformat_minor": 4
}
