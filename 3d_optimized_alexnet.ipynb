{
 "cells": [
  {
   "cell_type": "markdown",
   "metadata": {},
   "source": [
    "# 3D Tuned Alexnet Training Script\n",
    "\n",
    "Here the original 3D AlexNet model is tuned in order to improve model performance.\n",
    "\n",
    "This data has been preprocessed using the normalization range of -1100, 600."
   ]
  },
  {
   "cell_type": "code",
   "execution_count": 1,
   "metadata": {},
   "outputs": [
    {
     "name": "stderr",
     "output_type": "stream",
     "text": [
      "Using TensorFlow backend.\n"
     ]
    }
   ],
   "source": [
    "import tensorflow as tf\n",
    "import numpy as np\n",
    "import keras\n",
    "from keras.models import load_model\n",
    "from tensorflow.python.keras.layers import Flatten, Conv3D, MaxPooling3D, Dropout, Input, Dense, Activation\n",
    "from tensorflow.python.keras.models import Sequential, load_model\n",
    "from keras.callbacks import EarlyStopping, ModelCheckpoint\n",
    "from keras.callbacks import LearningRateScheduler, ReduceLROnPlateau\n",
    "import matplotlib.pyplot as plt"
   ]
  },
  {
   "cell_type": "code",
   "execution_count": 2,
   "metadata": {},
   "outputs": [],
   "source": [
    "training_images_final = np.load(\"3d_training_data.npy\")\n",
    "training_labels = np.load(\"3d_training_labels.npy\")\n",
    "testing_images_final = np.load(\"3d_testing_data.npy\")\n",
    "testing_labels = np.load(\"3d_testing_labels.npy\")"
   ]
  },
  {
   "cell_type": "markdown",
   "metadata": {},
   "source": [
    "The callbacks are defined below.\n",
    "\n",
    "Early stopping monitors validation loss and automatically quits the training process if the validation loss has remained constant/has increased for 3 consecutive epochs. \n",
    "\n",
    "Model checkpoint saves the model that performs the best on the validation dataset.\n",
    "\n",
    "Lr_reduction reduces the learning rate by a factor of 0.1 every time the validation loss has remained constant/has increased for 2 consecutive epochs."
   ]
  },
  {
   "cell_type": "code",
   "execution_count": 3,
   "metadata": {},
   "outputs": [],
   "source": [
    "early_stopping = EarlyStopping(monitor='val_loss', patience=3, mode='min', verbose=1)\n",
    "model_checkpoint = ModelCheckpoint(filepath='3d_alexnet.h5', monitor='val_loss', save_best_only=True, verbose=1)\n",
    "lr_reduction = ReduceLROnPlateau(monitor='val_loss', patience=2, verbose=1, factor=0.1, min_lr=0.000001)"
   ]
  },
  {
   "cell_type": "markdown",
   "metadata": {},
   "source": [
    "The model is implemented and trained below. Training logs were preserved.\n",
    "\n",
    "The following changes were made in an attempt to tune the model:\n",
    "\n",
    "Batch size = 16 (vs 128)\n",
    "\n",
    "Learning rate = 0.0001 (vs 0.01)\n",
    "\n",
    "Optimizer = Adam (vs SGD + momentum)\n",
    "\n",
    "Regularization (l2) removed\n",
    "\n",
    "Dropout after FC1 and FC2 changed to 0.6\n",
    "\n",
    "After various experimentations, it was found that the combination of parameters specified above works best for this dataset and this model."
   ]
  },
  {
   "cell_type": "code",
   "execution_count": 4,
   "metadata": {},
   "outputs": [
    {
     "name": "stdout",
     "output_type": "stream",
     "text": [
      "Train on 1447 samples, validate on 161 samples\n",
      "Epoch 1/50\n",
      "1446/1447 [============================>.] - ETA: 0s - loss: 0.6942 - acc: 0.4924\n",
      "Epoch 00001: val_loss improved from inf to 0.69333, saving model to 3d_alexnet.h5\n",
      "1447/1447 [==============================] - 282s 195ms/sample - loss: 0.6942 - acc: 0.4921 - val_loss: 0.6933 - val_acc: 0.4969\n",
      "Epoch 2/50\n",
      "1446/1447 [============================>.] - ETA: 0s - loss: 0.6936 - acc: 0.5242\n",
      "Epoch 00002: val_loss improved from 0.69333 to 0.69268, saving model to 3d_alexnet.h5\n",
      "1447/1447 [==============================] - 278s 192ms/sample - loss: 0.6936 - acc: 0.5245 - val_loss: 0.6927 - val_acc: 0.5528\n",
      "Epoch 3/50\n",
      "1446/1447 [============================>.] - ETA: 0s - loss: 0.6926 - acc: 0.5394\n",
      "Epoch 00003: val_loss did not improve from 0.69268\n",
      "1447/1447 [==============================] - 276s 191ms/sample - loss: 0.6926 - acc: 0.5390 - val_loss: 0.6937 - val_acc: 0.4969\n",
      "Epoch 4/50\n",
      "1446/1447 [============================>.] - ETA: 0s - loss: 0.6920 - acc: 0.5450\n",
      "Epoch 00004: val_loss improved from 0.69268 to 0.68969, saving model to 3d_alexnet.h5\n",
      "1447/1447 [==============================] - 279s 193ms/sample - loss: 0.6921 - acc: 0.5446 - val_loss: 0.6897 - val_acc: 0.5155\n",
      "Epoch 5/50\n",
      "1446/1447 [============================>.] - ETA: 0s - loss: 0.6904 - acc: 0.5685\n",
      "Epoch 00005: val_loss improved from 0.68969 to 0.68889, saving model to 3d_alexnet.h5\n",
      "1447/1447 [==============================] - 280s 193ms/sample - loss: 0.6904 - acc: 0.5688 - val_loss: 0.6889 - val_acc: 0.5901\n",
      "Epoch 6/50\n",
      "1446/1447 [============================>.] - ETA: 0s - loss: 0.6906 - acc: 0.5443\n",
      "Epoch 00006: val_loss did not improve from 0.68889\n",
      "1447/1447 [==============================] - 276s 191ms/sample - loss: 0.6907 - acc: 0.5439 - val_loss: 0.6904 - val_acc: 0.5404\n",
      "Epoch 7/50\n",
      "1446/1447 [============================>.] - ETA: 0s - loss: 0.6882 - acc: 0.5546\n",
      "Epoch 00007: val_loss did not improve from 0.68889\n",
      "1447/1447 [==============================] - 276s 191ms/sample - loss: 0.6882 - acc: 0.5549 - val_loss: 0.6890 - val_acc: 0.4845\n",
      "Epoch 8/50\n",
      "1446/1447 [============================>.] - ETA: 0s - loss: 0.6759 - acc: 0.5878\n",
      "Epoch 00008: val_loss improved from 0.68889 to 0.65163, saving model to 3d_alexnet.h5\n",
      "1447/1447 [==============================] - 280s 194ms/sample - loss: 0.6759 - acc: 0.5881 - val_loss: 0.6516 - val_acc: 0.6708\n",
      "Epoch 9/50\n",
      "1446/1447 [============================>.] - ETA: 0s - loss: 0.6502 - acc: 0.6300\n",
      "Epoch 00009: val_loss did not improve from 0.65163\n",
      "1447/1447 [==============================] - 277s 192ms/sample - loss: 0.6502 - acc: 0.6303 - val_loss: 0.6834 - val_acc: 0.5776\n",
      "Epoch 10/50\n",
      "1446/1447 [============================>.] - ETA: 0s - loss: 0.6164 - acc: 0.6646\n",
      "Epoch 00010: val_loss improved from 0.65163 to 0.59211, saving model to 3d_alexnet.h5\n",
      "1447/1447 [==============================] - 279s 193ms/sample - loss: 0.6163 - acc: 0.6648 - val_loss: 0.5921 - val_acc: 0.6894\n",
      "Epoch 11/50\n",
      "1446/1447 [============================>.] - ETA: 0s - loss: 0.5682 - acc: 0.7185\n",
      "Epoch 00011: val_loss improved from 0.59211 to 0.56594, saving model to 3d_alexnet.h5\n",
      "1447/1447 [==============================] - 279s 193ms/sample - loss: 0.5681 - acc: 0.7187 - val_loss: 0.5659 - val_acc: 0.7143\n",
      "Epoch 12/50\n",
      "1446/1447 [============================>.] - ETA: 0s - loss: 0.4831 - acc: 0.7787\n",
      "Epoch 00012: val_loss improved from 0.56594 to 0.47840, saving model to 3d_alexnet.h5\n",
      "1447/1447 [==============================] - 280s 194ms/sample - loss: 0.4829 - acc: 0.7789 - val_loss: 0.4784 - val_acc: 0.7764\n",
      "Epoch 13/50\n",
      "1446/1447 [============================>.] - ETA: 0s - loss: 0.4328 - acc: 0.8119\n",
      "Epoch 00013: val_loss did not improve from 0.47840\n",
      "1447/1447 [==============================] - 276s 191ms/sample - loss: 0.4326 - acc: 0.8120 - val_loss: 0.4819 - val_acc: 0.8137\n",
      "Epoch 14/50\n",
      "1446/1447 [============================>.] - ETA: 0s - loss: 0.3831 - acc: 0.8375\n",
      "Epoch 00014: val_loss improved from 0.47840 to 0.44401, saving model to 3d_alexnet.h5\n",
      "1447/1447 [==============================] - 278s 192ms/sample - loss: 0.3832 - acc: 0.8376 - val_loss: 0.4440 - val_acc: 0.8261\n",
      "Epoch 15/50\n",
      "1446/1447 [============================>.] - ETA: 0s - loss: 0.3256 - acc: 0.8693\n",
      "Epoch 00015: val_loss improved from 0.44401 to 0.41620, saving model to 3d_alexnet.h5\n",
      "1447/1447 [==============================] - 279s 193ms/sample - loss: 0.3254 - acc: 0.8694 - val_loss: 0.4162 - val_acc: 0.8509\n",
      "Epoch 16/50\n",
      "1446/1447 [============================>.] - ETA: 0s - loss: 0.2760 - acc: 0.8997\n",
      "Epoch 00016: val_loss did not improve from 0.41620\n",
      "1447/1447 [==============================] - 277s 191ms/sample - loss: 0.2759 - acc: 0.8998 - val_loss: 0.4567 - val_acc: 0.8261\n",
      "Epoch 17/50\n",
      "1446/1447 [============================>.] - ETA: 0s - loss: 0.2282 - acc: 0.9032\n",
      "Epoch 00017: val_loss improved from 0.41620 to 0.39604, saving model to 3d_alexnet.h5\n",
      "1447/1447 [==============================] - 280s 193ms/sample - loss: 0.2280 - acc: 0.9032 - val_loss: 0.3960 - val_acc: 0.8634\n",
      "Epoch 18/50\n",
      "1446/1447 [============================>.] - ETA: 0s - loss: 0.1934 - acc: 0.9295\n",
      "Epoch 00018: val_loss did not improve from 0.39604\n",
      "1447/1447 [==============================] - 277s 191ms/sample - loss: 0.1933 - acc: 0.9295 - val_loss: 0.5103 - val_acc: 0.8385\n",
      "Epoch 19/50\n",
      "1446/1447 [============================>.] - ETA: 0s - loss: 0.1437 - acc: 0.9467\n",
      "Epoch 00019: val_loss did not improve from 0.39604\n",
      "1447/1447 [==============================] - 277s 191ms/sample - loss: 0.1436 - acc: 0.9468 - val_loss: 0.5912 - val_acc: 0.8199\n",
      "Epoch 20/50\n",
      "1446/1447 [============================>.] - ETA: 0s - loss: 0.1316 - acc: 0.9481\n",
      "Epoch 00020: val_loss did not improve from 0.39604\n",
      "1447/1447 [==============================] - 277s 191ms/sample - loss: 0.1317 - acc: 0.9482 - val_loss: 0.4282 - val_acc: 0.8944\n",
      "Epoch 00020: early stopping\n"
     ]
    }
   ],
   "source": [
    "batch_size = 16\n",
    "no_epochs = 50\n",
    "learning_rate = 0.0001\n",
    "no_classes = 2\n",
    "validation_split = 0.1\n",
    "verbosity = 1\n",
    "X_train = training_images_final\n",
    "callbacks = [early_stopping, model_checkpoint]\n",
    "\n",
    "model = Sequential()\n",
    "\n",
    "model.add(Conv3D(filters=96, input_shape=(111, 111, 20, 3), kernel_size=(11,11,11), strides=(4,4,4), padding='valid'))\n",
    "model.add(Activation('relu'))\n",
    "model.add(MaxPooling3D(pool_size=(3,3,3), strides=(2,2,2), padding='same'))\n",
    "\n",
    "model.add(Conv3D(filters=256, kernel_size=(5,5,5), strides=(1,1,1), padding='same'))\n",
    "model.add(Activation('relu'))\n",
    "model.add(MaxPooling3D(pool_size=(3,3,3), strides=(2,2,2), padding='same'))\n",
    "\n",
    "model.add(Conv3D(filters=384, kernel_size=(3,3,3), strides=(1,1,1), padding='same'))\n",
    "model.add(Activation('relu'))\n",
    "\n",
    "model.add(Conv3D(filters=384, kernel_size=(3,3,3), strides=(1,1,1), padding='same'))\n",
    "model.add(Activation('relu'))\n",
    "# model.add(Dropout(0.5))\n",
    "\n",
    "model.add(Conv3D(filters=256, kernel_size=(3,3,3), strides=(1,1,1), padding='same'))\n",
    "model.add(Activation('relu'))\n",
    "model.add(MaxPooling3D(pool_size=(3,3,3), strides=(2,2,2), padding='same'))\n",
    "\n",
    "model.add(Flatten())\n",
    "\n",
    "model.add(Dense(4096, input_shape=(111*111*20*3,)))\n",
    "model.add(Activation('relu'))\n",
    "model.add(Dropout(0.6))\n",
    "\n",
    "model.add(Dense(4096))\n",
    "model.add(Activation('relu'))\n",
    "model.add(Dropout(0.6))\n",
    "\n",
    "model.add(Dense(no_classes, activation='softmax'))\n",
    "\n",
    "model.compile(loss=keras.losses.binary_crossentropy, optimizer=tf.keras.optimizers.Adam(lr=learning_rate), metrics=['acc'])\n",
    "\n",
    "history = model.fit(X_train, training_labels,\n",
    "            batch_size=batch_size,\n",
    "            epochs=no_epochs,\n",
    "            verbose=verbosity,\n",
    "            validation_split=validation_split,\n",
    "            callbacks = callbacks\n",
    "            )\n"
   ]
  },
  {
   "cell_type": "code",
   "execution_count": 6,
   "metadata": {},
   "outputs": [
    {
     "data": {
      "image/png": "[encoded data removed]",
      "text/plain": [
       "<Figure size 432x288 with 1 Axes>"
      ]
     },
     "metadata": {
      "needs_background": "light"
     },
     "output_type": "display_data"
    }
   ],
   "source": [
    "plt.plot(history.history['acc'], label='Accuracy (training data)')\n",
    "plt.plot(history.history['val_acc'], label='Accuracy (validation data)')\n",
    "plt.title('Model performance for 3D CT Scan Cancer Detection')\n",
    "plt.ylabel('Loss value')\n",
    "plt.xlabel('No. epoch')\n",
    "plt.legend(loc=\"lower left\", bbox_to_anchor=(0.5,1.2))\n",
    "plt.show()"
   ]
  },
  {
   "cell_type": "markdown",
   "metadata": {},
   "source": [
    "The model has now been trained. It is then tested on unseen data in order to obtain the final testing accuracy."
   ]
  },
  {
   "cell_type": "code",
   "execution_count": 7,
   "metadata": {},
   "outputs": [
    {
     "name": "stdout",
     "output_type": "stream",
     "text": [
      "403/403 [==============================] - 3s 7ms/sample - loss: 0.5449 - acc: 0.8586\n",
      "Test results - Loss: 0.5448719084114946 - Accuracy: 85.85608005523682%\n"
     ]
    }
   ],
   "source": [
    "test_results = model.evaluate(testing_images_final, testing_labels, verbose=1)\n",
    "print(f'Test results - Loss: {test_results[0]} - Accuracy: {test_results[1]*100}%')"
   ]
  },
  {
   "cell_type": "markdown",
   "metadata": {},
   "source": [
    "Finally, further performance metrics are evaluated using the functions below. These metrics are:\n",
    "\n",
    "Sensitivity: The ability of the model to classify a nodule as malignant when it is actually malignant (TP / (TP+FN))\n",
    "\n",
    "Specificity: The ability of the model to classify a nodule as benign when it is actually benign (TN/ (TN+FP))\n",
    "\n",
    "Precision: The accuracy of the model with regards to identifying malignant cases (i.e., how many of the predicted malignant nodules are actually malignant?) \n",
    "(TP / (TP+FP))"
   ]
  },
  {
   "cell_type": "code",
   "execution_count": 8,
   "metadata": {},
   "outputs": [],
   "source": [
    "# parameters:\n",
    "# arg1: labels: a list of one-hot encoded binary vectors corresponding to the actual labels of the testing data\n",
    "# arg2: positive: True for positive labels (i.e. malignant), False for negative labels (i.e. benign)\n",
    "\n",
    "# returns: \n",
    "# the number of malignant or benign cases in a one-hot encoded testing labels array\n",
    "\n",
    "def get_true_labels(labels,positive=True):\n",
    "    count = 0\n",
    "    if positive == True:\n",
    "        for x in labels:\n",
    "            if x[1] == 1:\n",
    "                count += 1\n",
    "    else:\n",
    "        for x in labels:\n",
    "            if x[1] == 0:\n",
    "                count += 1\n",
    "    return count\n",
    "\n",
    "# parameters:\n",
    "# arg1: actual_labels: a list of one-hot encoded binary vectors corresponding to the actual labels of the testing data\n",
    "# arg2: predicted_labels: a list of integers corresponding to the predictions of the model on the testing data (0=benign, 1=cancer)\n",
    "\n",
    "# returns: \n",
    "# the sensitivity of the model, defined as (TP / (TP+FN))\n",
    "\n",
    "def get_sensitivity(actual_labels, predicted_labels):\n",
    "    total_positives = get_true_labels(actual_labels)\n",
    "    true_positives = 0\n",
    "    for i in range(len(predicted_labels)):\n",
    "        if list(actual_labels[i]) == [0,1] and predicted_labels[i] == 1:\n",
    "            true_positives += 1\n",
    "    return true_positives/total_positives\n",
    "\n",
    "# parameters:\n",
    "# arg1: actual_labels: a list of one-hot encoded binary vectors corresponding to the actual labels of the testing data\n",
    "# arg2: predicted_labels: a list of integers corresponding to the predictions of the model on the testing data (0=benign, 1=cancer)\n",
    "\n",
    "# returns: \n",
    "# the specificity of the model, defined as (TN/ (TN+FP))\n",
    "\n",
    "def get_specificity(actual_labels, predicted_labels):\n",
    "    total_negatives = get_true_labels(actual_labels, False)\n",
    "    true_negatives = 0\n",
    "    for i in range(len(predicted_labels)):\n",
    "        if list(actual_labels[i]) == [1,0] and predicted_labels[i] == 0:\n",
    "            true_negatives += 1\n",
    "    return true_negatives/total_negatives\n",
    "\n",
    "# parameters:\n",
    "# arg1: actual_labels: a list of one-hot encoded binary vectors corresponding to the actual labels of the testing data\n",
    "# arg2: predicted_labels: a list of integers corresponding to the predictions of the model on the testing data (0=benign, 1=cancer)\n",
    "\n",
    "# returns: \n",
    "# the precision of the model, defined as (TP / (TP+FP))\n",
    "\n",
    "def get_precision(actual_labels, predicted_labels):\n",
    "    true_positives = 0\n",
    "    false_positives = 0\n",
    "    for i in range(len(predicted_labels)):\n",
    "        if list(actual_labels[i]) == [0,1] and predicted_labels[i] == 1:\n",
    "            true_positives += 1\n",
    "        if list(actual_labels[i]) == [1,0] and predicted_labels[i] == 1:\n",
    "            false_positives += 1\n",
    "    return true_positives/(true_positives+false_positives)"
   ]
  },
  {
   "cell_type": "markdown",
   "metadata": {},
   "source": [
    "The list of model predictions is obtained and, along with the actual labels, is used to derive the performance metrics of the model."
   ]
  },
  {
   "cell_type": "code",
   "execution_count": 9,
   "metadata": {},
   "outputs": [],
   "source": [
    "predicted_labels = model.predict_classes(testing_images_final)"
   ]
  },
  {
   "cell_type": "code",
   "execution_count": 10,
   "metadata": {},
   "outputs": [
    {
     "name": "stdout",
     "output_type": "stream",
     "text": [
      "0.7766497461928934 0.9368932038834952 0.9216867469879518\n"
     ]
    }
   ],
   "source": [
    "sensitivity = get_sensitivity(testing_labels, predicted_labels)\n",
    "specificity = get_specificity(testing_labels, predicted_labels)\n",
    "precision = get_precision(testing_labels, predicted_labels)\n",
    "print(sensitivity, specificity, precision)"
   ]
  },
  {
   "cell_type": "markdown",
   "metadata": {},
   "source": [
    "Finally, the performance metrics are saved."
   ]
  },
  {
   "cell_type": "code",
   "execution_count": 11,
   "metadata": {},
   "outputs": [],
   "source": [
    "f= open(\"3d_AlexNet_Results_Opt.txt\",\"w+\")\n",
    "f.write(\"3D AlexNet Performance Metrics\\n\")\n",
    "f.write(\"Loss: {0}\\n\".format(test_results[0]))\n",
    "f.write(\"Accuracy: {0}\\n\".format(test_results[1]*100))\n",
    "f.write(\"Sensitivity: {0}\\n\".format(sensitivity))\n",
    "f.write(\"Specificity: {0}\\n\".format(specificity))\n",
    "f.write(\"Precision: {0}\\n\".format(precision))\n",
    "f.close()"
   ]
  },
  {
   "cell_type": "code",
   "execution_count": 14,
   "metadata": {},
   "outputs": [],
   "source": [
    "model.save(\"3d_alexnet_adam.h5\")"
   ]
  }
 ],
 "metadata": {
  "kernelspec": {
   "display_name": "Python 3",
   "language": "python",
   "name": "python3"
  },
  "language_info": {
   "codemirror_mode": {
    "name": "ipython",
    "version": 3
   },
   "file_extension": ".py",
   "mimetype": "text/x-python",
   "name": "python",
   "nbconvert_exporter": "python",
   "pygments_lexer": "ipython3",
   "version": "3.7.3"
  }
 },
 "nbformat": 4,
 "nbformat_minor": 4
}
