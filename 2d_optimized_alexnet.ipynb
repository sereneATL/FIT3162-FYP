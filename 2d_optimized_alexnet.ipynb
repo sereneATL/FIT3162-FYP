{
 "cells": [
  {
   "cell_type": "markdown",
   "metadata": {},
   "source": [
    "# 2D Tuned Alexnet Training Script\n",
    "\n",
    "Here the original 2D AlexNet model is tuned in order to improve model performance.\n",
    "\n",
    "This data has been preprocessed using the normalization range of -1100, 600."
   ]
  },
  {
   "cell_type": "code",
   "execution_count": 1,
   "metadata": {},
   "outputs": [
    {
     "name": "stderr",
     "output_type": "stream",
     "text": [
      "Using TensorFlow backend.\n"
     ]
    }
   ],
   "source": [
    "import tensorflow as tf\n",
    "import numpy as np\n",
    "import keras\n",
    "from keras.models import load_model\n",
    "from tensorflow.python.keras.layers import Flatten, Conv2D, MaxPooling2D, Dropout, Input, Dense, Activation, BatchNormalization\n",
    "from tensorflow.python.keras.models import Sequential, load_model\n",
    "from keras.callbacks import EarlyStopping, ModelCheckpoint\n",
    "from keras.callbacks import LearningRateScheduler, ReduceLROnPlateau\n",
    "import matplotlib.pyplot as plt"
   ]
  },
  {
   "cell_type": "code",
   "execution_count": 2,
   "metadata": {},
   "outputs": [],
   "source": [
    "training_images_final = np.load(\"2d_training_data_2.npy\")\n",
    "training_labels = np.load(\"2d_training_labels_2.npy\")\n",
    "testing_images_final = np.load(\"2d_testing_data_2.npy\")\n",
    "testing_labels = np.load(\"2d_testing_labels_2.npy\")"
   ]
  },
  {
   "cell_type": "markdown",
   "metadata": {},
   "source": [
    "The callbacks are defined below.\n",
    "\n",
    "Early stopping monitors validation loss and automatically quits the training process if the validation loss has remained constant/has increased for 5 consecutive epochs. \n",
    "\n",
    "Model checkpoint saves the model that performs the best on the validation dataset.\n",
    "\n",
    "Lr_reduction reduces the learning rate by a factor of 0.1 every time the validation loss has remained constant/has increased for 2 consecutive epochs."
   ]
  },
  {
   "cell_type": "code",
   "execution_count": 3,
   "metadata": {},
   "outputs": [],
   "source": [
    "early_stopping = EarlyStopping(monitor='val_loss', patience=5, mode='min', verbose=1)\n",
    "model_checkpoint = ModelCheckpoint(filepath='2d_alexnet_adam.h5', monitor='val_loss', save_best_only=True, verbose=1)\n",
    "lr_reduction = ReduceLROnPlateau(monitor='val_loss', patience=2, verbose=1, factor=0.1, min_lr=0.00001)"
   ]
  },
  {
   "cell_type": "markdown",
   "metadata": {},
   "source": [
    "The model is implemented and trained below. Training logs were preserved.\n",
    "\n",
    "The following changes were made in an attempt to tune the model:\n",
    "\n",
    "Batch size = 32 (vs 128)\n",
    "\n",
    "Learning rate = 0.001 (vs 0.01)\n",
    "\n",
    "Optimizer = Adam (vs SGD + momentum)\n",
    "\n",
    "Regularization (l2) removed\n",
    "\n",
    "After various experimentations, it was found that the combination of parameters specified above works best for this dataset."
   ]
  },
  {
   "cell_type": "code",
   "execution_count": 4,
   "metadata": {},
   "outputs": [],
   "source": [
    "batch_size = 32\n",
    "no_epochs = 50\n",
    "learning_rate = 0.001\n",
    "no_classes = 2\n",
    "validation_split = 0.15\n",
    "verbosity = 1\n",
    "X_train = training_images_final\n",
    "callbacks = [early_stopping, model_checkpoint, lr_reduction]\n",
    "    \n",
    "def build_model():\n",
    "    \n",
    "    model = Sequential()\n",
    "\n",
    "    model.add(Conv2D(filters=96, input_shape=(227,227,3), kernel_size=(11,11), strides=(4,4), padding='valid'))\n",
    "    model.add(Activation('relu'))\n",
    "    model.add(MaxPooling2D(pool_size=(2,2), strides=(2,2), padding='valid'))\n",
    "\n",
    "    model.add(Conv2D(filters=256, kernel_size=(5,5), strides=(1,1), padding='valid'))\n",
    "    model.add(Activation('relu'))\n",
    "    model.add(MaxPooling2D(pool_size=(2,2), strides=(2,2), padding='valid'))\n",
    "\n",
    "    model.add(Conv2D(filters=384, kernel_size=(3,3), strides=(1,1), padding='valid'))\n",
    "    model.add(Activation('relu'))\n",
    "\n",
    "    model.add(Conv2D(filters=384, kernel_size=(3,3), strides=(1,1), padding='valid'))\n",
    "    model.add(Activation('relu'))\n",
    "\n",
    "    model.add(Conv2D(filters=256, kernel_size=(3,3), strides=(1,1), padding='valid'))\n",
    "    model.add(Activation('relu'))\n",
    "    model.add(MaxPooling2D(pool_size=(2,2), strides=(2,2), padding='valid'))\n",
    "\n",
    "    model.add(Flatten())\n",
    "\n",
    "    model.add(Dense(4096, input_shape=(227*227*3,)))\n",
    "    model.add(Activation('relu'))\n",
    "    model.add(Dropout(0.5))\n",
    "\n",
    "    model.add(Dense(4096))\n",
    "    model.add(Activation('relu'))\n",
    "    model.add(Dropout(0.5))\n",
    "\n",
    "    model.add(Dense(no_classes, activation='softmax'))\n",
    "    \n",
    "    return model"
   ]
  },
  {
   "cell_type": "code",
   "execution_count": 5,
   "metadata": {},
   "outputs": [
    {
     "name": "stdout",
     "output_type": "stream",
     "text": [
      "Train on 9979 samples, validate on 1762 samples\n",
      "Epoch 1/50\n",
      "9952/9979 [============================>.] - ETA: 0s - loss: 0.4705 - acc: 0.7955\n",
      "Epoch 00001: val_loss improved from inf to 0.31575, saving model to 2d_alexnet_adam.h5\n",
      "9979/9979 [==============================] - 81s 8ms/sample - loss: 0.4698 - acc: 0.7958 - val_loss: 0.3157 - val_acc: 0.8695\n",
      "Epoch 2/50\n",
      "9952/9979 [============================>.] - ETA: 0s - loss: 0.3444 - acc: 0.8601\n",
      "Epoch 00002: val_loss did not improve from 0.31575\n",
      "9979/9979 [==============================] - 81s 8ms/sample - loss: 0.3444 - acc: 0.8601 - val_loss: 0.3885 - val_acc: 0.8280\n",
      "Epoch 3/50\n",
      "9952/9979 [============================>.] - ETA: 0s - loss: 0.3028 - acc: 0.8766\n",
      "Epoch 00003: val_loss improved from 0.31575 to 0.25716, saving model to 2d_alexnet_adam.h5\n",
      "9979/9979 [==============================] - 83s 8ms/sample - loss: 0.3029 - acc: 0.8767 - val_loss: 0.2572 - val_acc: 0.8978\n",
      "Epoch 4/50\n",
      "9952/9979 [============================>.] - ETA: 0s - loss: 0.2743 - acc: 0.8942\n",
      "Epoch 00004: val_loss improved from 0.25716 to 0.25682, saving model to 2d_alexnet_adam.h5\n",
      "9979/9979 [==============================] - 83s 8ms/sample - loss: 0.2748 - acc: 0.8942 - val_loss: 0.2568 - val_acc: 0.8927\n",
      "Epoch 5/50\n",
      "9952/9979 [============================>.] - ETA: 0s - loss: 0.2343 - acc: 0.9091\n",
      "Epoch 00005: val_loss improved from 0.25682 to 0.23703, saving model to 2d_alexnet_adam.h5\n",
      "9979/9979 [==============================] - 83s 8ms/sample - loss: 0.2346 - acc: 0.9090 - val_loss: 0.2370 - val_acc: 0.9109\n",
      "Epoch 6/50\n",
      "9952/9979 [============================>.] - ETA: 0s - loss: 0.2050 - acc: 0.9202\n",
      "Epoch 00006: val_loss improved from 0.23703 to 0.20509, saving model to 2d_alexnet_adam.h5\n",
      "9979/9979 [==============================] - 84s 8ms/sample - loss: 0.2050 - acc: 0.9202 - val_loss: 0.2051 - val_acc: 0.9222\n",
      "Epoch 7/50\n",
      "9952/9979 [============================>.] - ETA: 0s - loss: 0.1786 - acc: 0.9274\n",
      "Epoch 00007: val_loss did not improve from 0.20509\n",
      "9979/9979 [==============================] - 81s 8ms/sample - loss: 0.1785 - acc: 0.9273 - val_loss: 0.2114 - val_acc: 0.9262\n",
      "Epoch 8/50\n",
      "9952/9979 [============================>.] - ETA: 0s - loss: 0.1632 - acc: 0.9366\n",
      "Epoch 00008: val_loss improved from 0.20509 to 0.20280, saving model to 2d_alexnet_adam.h5\n",
      "9979/9979 [==============================] - 83s 8ms/sample - loss: 0.1637 - acc: 0.9363 - val_loss: 0.2028 - val_acc: 0.9245\n",
      "Epoch 9/50\n",
      "9952/9979 [============================>.] - ETA: 0s - loss: 0.1445 - acc: 0.9433\n",
      "Epoch 00009: val_loss improved from 0.20280 to 0.18704, saving model to 2d_alexnet_adam.h5\n",
      "9979/9979 [==============================] - 84s 8ms/sample - loss: 0.1447 - acc: 0.9432 - val_loss: 0.1870 - val_acc: 0.9319\n",
      "Epoch 10/50\n",
      "9952/9979 [============================>.] - ETA: 0s - loss: 0.1243 - acc: 0.9515\n",
      "Epoch 00010: val_loss did not improve from 0.18704\n",
      "9979/9979 [==============================] - 81s 8ms/sample - loss: 0.1244 - acc: 0.9515 - val_loss: 0.1960 - val_acc: 0.9325\n",
      "Epoch 11/50\n",
      "9952/9979 [============================>.] - ETA: 0s - loss: 0.1008 - acc: 0.9620\n",
      "Epoch 00011: val_loss improved from 0.18704 to 0.18665, saving model to 2d_alexnet_adam.h5\n",
      "9979/9979 [==============================] - 84s 8ms/sample - loss: 0.1011 - acc: 0.9618 - val_loss: 0.1866 - val_acc: 0.9359\n",
      "Epoch 12/50\n",
      "9952/9979 [============================>.] - ETA: 0s - loss: 0.1001 - acc: 0.9638\n",
      "Epoch 00012: val_loss improved from 0.18665 to 0.18342, saving model to 2d_alexnet_adam.h5\n",
      "9979/9979 [==============================] - 84s 8ms/sample - loss: 0.1000 - acc: 0.9638 - val_loss: 0.1834 - val_acc: 0.9404\n",
      "Epoch 13/50\n",
      "9952/9979 [============================>.] - ETA: 0s - loss: 0.0930 - acc: 0.9659\n",
      "Epoch 00013: val_loss did not improve from 0.18342\n",
      "9979/9979 [==============================] - 81s 8ms/sample - loss: 0.0928 - acc: 0.9660 - val_loss: 0.1893 - val_acc: 0.9461\n",
      "Epoch 14/50\n",
      "9952/9979 [============================>.] - ETA: 0s - loss: 0.0777 - acc: 0.9727\n",
      "Epoch 00014: val_loss did not improve from 0.18342\n",
      "\n",
      "Epoch 00014: ReduceLROnPlateau reducing learning rate to 0.00010000000474974513.\n",
      "9979/9979 [==============================] - 81s 8ms/sample - loss: 0.0776 - acc: 0.9727 - val_loss: 0.2030 - val_acc: 0.9478\n",
      "Epoch 15/50\n",
      "9952/9979 [============================>.] - ETA: 0s - loss: 0.0347 - acc: 0.9881\n",
      "Epoch 00015: val_loss did not improve from 0.18342\n",
      "9979/9979 [==============================] - 81s 8ms/sample - loss: 0.0349 - acc: 0.9881 - val_loss: 0.2082 - val_acc: 0.9535\n",
      "Epoch 16/50\n",
      "9952/9979 [============================>.] - ETA: 0s - loss: 0.0205 - acc: 0.9932\n",
      "Epoch 00016: val_loss did not improve from 0.18342\n",
      "\n",
      "Epoch 00016: ReduceLROnPlateau reducing learning rate to 1.0000000474974514e-05.\n",
      "9979/9979 [==============================] - 81s 8ms/sample - loss: 0.0205 - acc: 0.9932 - val_loss: 0.2238 - val_acc: 0.9540\n",
      "Epoch 17/50\n",
      "9952/9979 [============================>.] - ETA: 0s - loss: 0.0148 - acc: 0.9949\n",
      "Epoch 00017: val_loss did not improve from 0.18342\n",
      "9979/9979 [==============================] - 81s 8ms/sample - loss: 0.0148 - acc: 0.9949 - val_loss: 0.2294 - val_acc: 0.9529\n",
      "Epoch 00017: early stopping\n"
     ]
    }
   ],
   "source": [
    "model = build_model()\n",
    "\n",
    "model.compile(loss=keras.losses.binary_crossentropy, optimizer=tf.keras.optimizers.Adam(lr=learning_rate), metrics=['acc'])\n",
    "\n",
    "history = model.fit(training_images_final, training_labels,\n",
    "            batch_size=batch_size,\n",
    "            epochs=no_epochs,\n",
    "            verbose=verbosity,\n",
    "            validation_split=validation_split,\n",
    "            callbacks=callbacks)"
   ]
  },
  {
   "cell_type": "code",
   "execution_count": 6,
   "metadata": {},
   "outputs": [
    {
     "data": {
      "image/png": "[encoded data removed]",
      "text/plain": [
       "<Figure size 432x288 with 1 Axes>"
      ]
     },
     "metadata": {
      "needs_background": "light"
     },
     "output_type": "display_data"
    }
   ],
   "source": [
    "plt.plot(history.history['acc'], label='Accuracy (training data)')\n",
    "plt.plot(history.history['val_acc'], label='Accuracy (validation data)')\n",
    "plt.title('Model performance for 2D CT Scan Cancer Detection')\n",
    "plt.ylabel('Loss value')\n",
    "plt.xlabel('No. epoch')\n",
    "plt.legend(loc=\"lower left\", bbox_to_anchor=(0.5,1.2))\n",
    "plt.show()"
   ]
  },
  {
   "cell_type": "markdown",
   "metadata": {},
   "source": [
    "The model has now been trained. It is then tested on unseen data in order to obtain the final testing accuracy."
   ]
  },
  {
   "cell_type": "code",
   "execution_count": 7,
   "metadata": {},
   "outputs": [
    {
     "name": "stdout",
     "output_type": "stream",
     "text": [
      "2936/2936 [==============================] - 4s 1ms/sample - loss: 0.3072 - acc: 0.9421\n",
      "Test results - Loss: 0.3071977539414322 - Accuracy: 94.2098081111908%\n"
     ]
    }
   ],
   "source": [
    "test_results = model.evaluate(testing_images_final, testing_labels, verbose=1)\n",
    "print(f'Test results - Loss: {test_results[0]} - Accuracy: {test_results[1]*100}%')"
   ]
  },
  {
   "cell_type": "markdown",
   "metadata": {},
   "source": [
    "Finally, further performance metrics are evaluated using the functions below. These metrics are:\n",
    "\n",
    "Sensitivity: The ability of the model to classify a nodule as malignant when it is actually malignant (TP / (TP+FN))\n",
    "\n",
    "Specificity: The ability of the model to classify a nodule as benign when it is actually benign (TN/ (TN+FP))\n",
    "\n",
    "Precision: The accuracy of the model with regards to identifying malignant cases (i.e., how many of the predicted malignant nodules are actually malignant?) \n",
    "(TP / (TP+FP))"
   ]
  },
  {
   "cell_type": "code",
   "execution_count": 8,
   "metadata": {},
   "outputs": [],
   "source": [
    "# parameters:\n",
    "# arg1: labels: a list of one-hot encoded binary vectors corresponding to the actual labels of the testing data\n",
    "# arg2: positive: True for positive labels (i.e. malignant), False for negative labels (i.e. benign)\n",
    "\n",
    "# returns: \n",
    "# the number of malignant or benign cases in a one-hot encoded testing labels array\n",
    "\n",
    "def get_true_labels(labels,positive=True):\n",
    "    count = 0\n",
    "    if positive == True:\n",
    "        for x in labels:\n",
    "            if x[1] == 1:\n",
    "                count += 1\n",
    "    else:\n",
    "        for x in labels:\n",
    "            if x[1] == 0:\n",
    "                count += 1\n",
    "    return count\n",
    "\n",
    "# parameters:\n",
    "# arg1: actual_labels: a list of one-hot encoded binary vectors corresponding to the actual labels of the testing data\n",
    "# arg2: predicted_labels: a list of integers corresponding to the predictions of the model on the testing data (0=benign, 1=cancer)\n",
    "\n",
    "# returns: \n",
    "# the sensitivity of the model, defined as (TP / (TP+FN))\n",
    "\n",
    "def get_sensitivity(actual_labels, predicted_labels):\n",
    "    total_positives = get_true_labels(actual_labels)\n",
    "    true_positives = 0\n",
    "    for i in range(len(predicted_labels)):\n",
    "        if list(actual_labels[i]) == [0,1] and predicted_labels[i] == 1:\n",
    "            true_positives += 1\n",
    "    return true_positives/total_positives\n",
    "\n",
    "# parameters:\n",
    "# arg1: actual_labels: a list of one-hot encoded binary vectors corresponding to the actual labels of the testing data\n",
    "# arg2: predicted_labels: a list of integers corresponding to the predictions of the model on the testing data (0=benign, 1=cancer)\n",
    "\n",
    "# returns: \n",
    "# the specificity of the model, defined as (TN/ (TN+FP))\n",
    "\n",
    "def get_specificity(actual_labels, predicted_labels):\n",
    "    total_negatives = get_true_labels(actual_labels, False)\n",
    "    true_negatives = 0\n",
    "    for i in range(len(predicted_labels)):\n",
    "        if list(actual_labels[i]) == [1,0] and predicted_labels[i] == 0:\n",
    "            true_negatives += 1\n",
    "    return true_negatives/total_negatives\n",
    "\n",
    "# parameters:\n",
    "# arg1: actual_labels: a list of one-hot encoded binary vectors corresponding to the actual labels of the testing data\n",
    "# arg2: predicted_labels: a list of integers corresponding to the predictions of the model on the testing data (0=benign, 1=cancer)\n",
    "\n",
    "# returns: \n",
    "# the precision of the model, defined as (TP / (TP+FP))\n",
    "\n",
    "def get_precision(actual_labels, predicted_labels):\n",
    "    true_positives = 0\n",
    "    false_positives = 0\n",
    "    for i in range(len(predicted_labels)):\n",
    "        if list(actual_labels[i]) == [0,1] and predicted_labels[i] == 1:\n",
    "            true_positives += 1\n",
    "        if list(actual_labels[i]) == [1,0] and predicted_labels[i] == 1:\n",
    "            false_positives += 1\n",
    "    return true_positives/(true_positives+false_positives)"
   ]
  },
  {
   "cell_type": "markdown",
   "metadata": {},
   "source": [
    "The list of model predictions is obtained and, along with the actual labels, is used to derive the performance metrics of the model."
   ]
  },
  {
   "cell_type": "code",
   "execution_count": 9,
   "metadata": {},
   "outputs": [],
   "source": [
    "predicted_labels = model.predict_classes(testing_images_final)"
   ]
  },
  {
   "cell_type": "code",
   "execution_count": 10,
   "metadata": {},
   "outputs": [
    {
     "name": "stdout",
     "output_type": "stream",
     "text": [
      "0.9665970772442589 0.8960784313725491 0.9458631256384066\n"
     ]
    }
   ],
   "source": [
    "sensitivity = get_sensitivity(testing_labels, predicted_labels)\n",
    "specificity = get_specificity(testing_labels, predicted_labels)\n",
    "precision = get_precision(testing_labels, predicted_labels)\n",
    "print(sensitivity, specificity, precision)"
   ]
  },
  {
   "cell_type": "code",
   "execution_count": 11,
   "metadata": {},
   "outputs": [],
   "source": [
    "f= open(\"2D_AlexNet_Results_Opt.txt\",\"w+\")\n",
    "f.write(\"2D AlexNet Performance Metrics\\n\")\n",
    "f.write(\"Loss: {0}\\n\".format(test_results[0]))\n",
    "f.write(\"Accuracy: {0}\\n\".format(test_results[1]*100))\n",
    "f.write(\"Sensitivity: {0}\\n\".format(sensitivity))\n",
    "f.write(\"Specificity: {0}\\n\".format(specificity))\n",
    "f.write(\"Precision: {0}\\n\".format(precision))\n",
    "f.close()"
   ]
  }
 ],
 "metadata": {
  "kernelspec": {
   "display_name": "Python 3",
   "language": "python",
   "name": "python3"
  },
  "language_info": {
   "codemirror_mode": {
    "name": "ipython",
    "version": 3
   },
   "file_extension": ".py",
   "mimetype": "text/x-python",
   "name": "python",
   "nbconvert_exporter": "python",
   "pygments_lexer": "ipython3",
   "version": "3.7.3"
  }
 },
 "nbformat": 4,
 "nbformat_minor": 4
}
