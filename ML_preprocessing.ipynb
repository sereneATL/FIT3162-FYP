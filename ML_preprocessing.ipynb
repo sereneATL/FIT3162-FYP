{
 "cells": [
  {
   "cell_type": "markdown",
   "metadata": {},
   "source": [
    "# Machine Learning Preprocessing Script\n",
    "\n",
    "This script normalizes, stacks, partitions the data and saves it in a format such that it is ready for the CNN. The preprocessing of all the training and testing data is completed here."
   ]
  },
  {
   "cell_type": "code",
   "execution_count": 1,
   "metadata": {},
   "outputs": [
    {
     "name": "stderr",
     "output_type": "stream",
     "text": [
      "Using TensorFlow backend.\n"
     ]
    }
   ],
   "source": [
    "import tensorflow as tf\n",
    "import numpy as np\n",
    "import keras\n",
    "import matplotlib.pyplot as plt\n",
    "import random"
   ]
  },
  {
   "cell_type": "markdown",
   "metadata": {},
   "source": [
    "Normalization method refers to the following:\t\n",
    "1: Normalize data between the true min,max ranges\t\n",
    "2: Normalize data between -1100 and 600\t\n",
    "\n",
    "Data dimension can be either 2d or 3d\n",
    "\n",
    "These variables are defined here to control the flow of the rest of the script in accordance with the values set in the cell below"
   ]
  },
  {
   "cell_type": "code",
   "execution_count": 2,
   "metadata": {},
   "outputs": [],
   "source": [
    "normalization_method = \"1\"\n",
    "data_dimension = \"2d\"\n",
    "\n",
    "if normalization_method == \"1\":\n",
    "    \n",
    "    MIN_BOUND = -1454\n",
    "    MAX_BOUND = 3071\n",
    "    \n",
    "elif normalization_method == \"2\":\n",
    "    \n",
    "    MIN_BOUND = -1100\n",
    "    MAX_BOUND = 600\n",
    "\n",
    "if data_dimension == \"2d\":\n",
    "    \n",
    "    WIDTH, HEIGHT = 227, 227\n",
    "\n",
    "elif data_dimension == \"3d\":\n",
    "    \n",
    "    WIDTH, HEIGHT = 111, 111\n",
    "    DEPTH = 20"
   ]
  },
  {
   "cell_type": "markdown",
   "metadata": {},
   "source": [
    "The functions used in the rest of the script are defined in the cell below.\n",
    "\n",
    "Mix_data is used to concatenate all the loaded queried data into a single list\n",
    "\n",
    "Min_max_normalize normalizes 2D images based on the normalization values defined above\n",
    "\n",
    "Stack_data is used to repeat the data 3 times, either 2D or 3D, in accordance with the AlexNet architecture\n",
    "\n",
    "Split_data partitions the dataset into training and testing sets based on a given ratio\n",
    "\n",
    "Get_image_data and get_labels are used to extract the image data and labels from the list of tuples"
   ]
  },
  {
   "cell_type": "code",
   "execution_count": 3,
   "metadata": {},
   "outputs": [],
   "source": [
    "# parameters:\n",
    "# arg1: np_array: the np array of loaded queried nodule data\n",
    "# arg2: concatenated_data: the list that the loaded images (2D)/ list of images (3D) are appended to\n",
    "\n",
    "def mix_data(np_array, concatenated_data):\n",
    "    for x in np_array:\n",
    "        concatenated_data.append(x)\n",
    "        \n",
    "# parameters:\n",
    "# arg1: image: the 2D image to be normalized\n",
    "\n",
    "# returns:\n",
    "# the normalized 2D image\n",
    "\n",
    "def min_max_normalize(image):\n",
    "    image2 = (image - MIN_BOUND) / (MAX_BOUND - MIN_BOUND)\n",
    "    image2[image2>1] = 1.\n",
    "    image2[image2<0] = 0.\n",
    "    return image2\n",
    "        \n",
    "# parameters:\n",
    "# arg1: concatenated_data: a list of image/label tuples\n",
    "\n",
    "# returns:\n",
    "# a list where the image data has been stacked three times \n",
    "\n",
    "def stack_data(concatenated_data):\n",
    "\n",
    "    shuffled_stack = []\n",
    "    for nod in concatenated_data: \n",
    "        nod_tuple = []\n",
    "        label = nod[1]\n",
    "        stacked_img = np.stack((nod[0],)*3, axis=-1)\n",
    "        nod_tuple.append(stacked_img)\n",
    "        nod_tuple.append(label)\n",
    "        shuffled_stack.append(nod_tuple)\n",
    "        \n",
    "    return shuffled_stack\n",
    "\n",
    "# parameters: \n",
    "# arg1: data: the list of data to be partitioned\n",
    "# arg2: ratio_of_train: the percentage of data to be partitioned into the training set\n",
    "\n",
    "# returns:\n",
    "# training data: a list of training image/label tuples\n",
    "# testing data: a list of testing image/label tuples\n",
    "\n",
    "def split_data(data, ratio_of_train):\n",
    "    training_data = []\n",
    "    testing_data = []\n",
    "    num_of_samples = len(data)\n",
    "    len_of_training_data = int(ratio_of_train*num_of_samples)\n",
    "    len_of_testing_data = num_of_samples - len_of_training_data\n",
    "    \n",
    "    for i in range(len_of_training_data):\n",
    "        training_data.append(data[i])\n",
    "    for i in range(len_of_training_data, num_of_samples):\n",
    "        testing_data.append(data[i])\n",
    "        \n",
    "    return training_data, testing_data\n",
    "\n",
    "# parameters:\n",
    "# arg1: training_data: the list of training-image/label tuples\n",
    "# arg2: testing_data: the list of testing-image/label tuples\n",
    "\n",
    "# returns:\n",
    "# training_images: a list of only training image data\n",
    "# testing_images: a list of only testing image data\n",
    "\n",
    "def get_image_data(training_data, testing_data):\n",
    "    training_images = []\n",
    "    testing_images = []\n",
    "    for nodule in training_data:\n",
    "        training_images.append(nodule[0])\n",
    "    for nodule in testing_data:\n",
    "        testing_images.append(nodule[0])\n",
    "    return training_images, testing_images\n",
    "\n",
    "# parameters:\n",
    "# arg1: training_data: the list of training-image/label tuples\n",
    "# arg2: testing_data: the list of testing-image/label tuples\n",
    "\n",
    "# returns:\n",
    "# training_images: a list of only training image labels\n",
    "# testing_images: a list of only testing image labels\n",
    "\n",
    "def get_labels(training_data, testing_data):\n",
    "    training_labels = []\n",
    "    testing_labels = []\n",
    "    for nodule in training_data:\n",
    "        training_labels.append(nodule[1])\n",
    "    for nodule in testing_data:\n",
    "        testing_labels.append(nodule[1])\n",
    "    return training_labels, testing_labels"
   ]
  },
  {
   "cell_type": "markdown",
   "metadata": {},
   "source": [
    "The previously queried data is loaded into this kernel for further preprocessing"
   ]
  },
  {
   "cell_type": "code",
   "execution_count": 4,
   "metadata": {},
   "outputs": [],
   "source": [
    "if data_dimension == \"2d\":\n",
    "    cancer_1 = np.load(\"2d_Malignancy_5_0:300.npy\")\n",
    "    cancer_2 = np.load(\"2d_Malignancy_5_300:600.npy\")\n",
    "    cancer_3 = np.load(\"2d_Malignancy_5_600:691.npy\")\n",
    "    cancer_4 = np.load(\"2d_Malignancy_4_0:300.npy\")\n",
    "    benign_1 = np.load(\"2d_Malignancy_1_0:300.npy\")\n",
    "    benign_2 = np.load(\"2d_Malignancy_1_300:600.npy\")\n",
    "    benign_3 = np.load(\"2d_Malignancy_1_600:900.npy\")\n",
    "    benign_4 = np.load(\"2d_Malignancy_2_0:200.npy\")    \n",
    "\n",
    "elif data_dimension == \"3d\":\n",
    "    cancer_1 = np.load(\"3d_Malignancy_5_0:300.npy\")\n",
    "    cancer_2 = np.load(\"3d_Malignancy_5_300:600.npy\")\n",
    "    cancer_3 = np.load(\"3d_Malignancy_5_600:691.npy\")\n",
    "    cancer_4 = np.load(\"3d_Malignancy_4_0:300.npy\")\n",
    "    benign_1 = np.load(\"3d_Malignancy_1_0:300.npy\")\n",
    "    benign_2 = np.load(\"3d_Malignancy_1_300:600.npy\")\n",
    "    benign_3 = np.load(\"3d_Malignancy_1_600:900.npy\")\n",
    "    benign_4 = np.load(\"3d_Malignancy_2_0:200.npy\")"
   ]
  },
  {
   "cell_type": "code",
   "execution_count": 5,
   "metadata": {},
   "outputs": [],
   "source": [
    "concatenated_data = []\n",
    "\n",
    "mix_data(cancer_1, concatenated_data)\n",
    "mix_data(cancer_2, concatenated_data)\n",
    "mix_data(cancer_3, concatenated_data)\n",
    "mix_data(cancer_4, concatenated_data)\n",
    "mix_data(benign_1, concatenated_data)\n",
    "mix_data(benign_2, concatenated_data)\n",
    "mix_data(benign_3, concatenated_data)\n",
    "mix_data(benign_4, concatenated_data)"
   ]
  },
  {
   "cell_type": "markdown",
   "metadata": {},
   "source": [
    "The image data is appended into a list in order to obtain the min and max values of the pixels, used in determining normalization ranges"
   ]
  },
  {
   "cell_type": "code",
   "execution_count": 6,
   "metadata": {},
   "outputs": [],
   "source": [
    "x = []\n",
    "for i in concatenated_data:\n",
    "    x.append(i[0])"
   ]
  },
  {
   "cell_type": "code",
   "execution_count": 7,
   "metadata": {},
   "outputs": [
    {
     "name": "stdout",
     "output_type": "stream",
     "text": [
      "-1454 3071\n"
     ]
    }
   ],
   "source": [
    "x = np.array(x)\n",
    "print(x.min(), x.max())"
   ]
  },
  {
   "cell_type": "markdown",
   "metadata": {},
   "source": [
    "A histogram is plotted to observe the frequency distribution of the pixels, in order to determine a custom normalization range less affected by possible outliers. In this case, the data can be seen to be heavily centered between -1100 and 600, and thus these values weer used as the upper and lower bounds for normalization."
   ]
  },
  {
   "cell_type": "code",
   "execution_count": 8,
   "metadata": {},
   "outputs": [
    {
     "data": {
      "text/plain": [
       "([], <a list of 0 Text major ticklabel objects>)"
      ]
     },
     "execution_count": 8,
     "metadata": {},
     "output_type": "execute_result"
    },
    {
     "data": {
      "image/png": "[encoded data removed]",
      "text/plain": [
       "<Figure size 1080x576 with 1 Axes>"
      ]
     },
     "metadata": {
      "needs_background": "light"
     },
     "output_type": "display_data"
    }
   ],
   "source": [
    "plt.figure(figsize=(15,8))\n",
    "plt.hist(x.reshape(-1), density=True, bins=50)\n",
    "plt.gca().set(title='Pixel Frequency Histogram', ylabel='Frequency', xlabel = 'Pixel Value');\n",
    "plt.xticks(np.arange(-1500, 3100, 300))\n",
    "plt.yticks([])"
   ]
  },
  {
   "cell_type": "markdown",
   "metadata": {},
   "source": [
    "The data is normalized, shuffled (since currently, all the malignant data precedes all the benign data), stacked, partitioned and finally the images and labels are separated (while preserving order)."
   ]
  },
  {
   "cell_type": "code",
   "execution_count": 9,
   "metadata": {},
   "outputs": [],
   "source": [
    "normalized_data = [[min_max_normalize(nodule[0]), nodule[1]] for nodule in concatenated_data]"
   ]
  },
  {
   "cell_type": "code",
   "execution_count": 10,
   "metadata": {},
   "outputs": [],
   "source": [
    "random.shuffle(normalized_data)\n",
    "shuffled_stack = stack_data(normalized_data)"
   ]
  },
  {
   "cell_type": "code",
   "execution_count": 11,
   "metadata": {},
   "outputs": [],
   "source": [
    "training_data, testing_data = split_data(shuffled_stack, 0.8)"
   ]
  },
  {
   "cell_type": "code",
   "execution_count": 12,
   "metadata": {},
   "outputs": [],
   "source": [
    "training_images, testing_images = get_image_data(training_data, testing_data)\n",
    "training_labels, testing_labels = get_labels(training_data, testing_data)"
   ]
  },
  {
   "cell_type": "markdown",
   "metadata": {},
   "source": [
    "One hot coding is done on the labels in order to convert them to binary vectors"
   ]
  },
  {
   "cell_type": "code",
   "execution_count": 13,
   "metadata": {},
   "outputs": [],
   "source": [
    "training_labels = keras.utils.to_categorical(training_labels).astype(np.integer)\n",
    "testing_labels = keras.utils.to_categorical(testing_labels).astype(np.integer)"
   ]
  },
  {
   "cell_type": "markdown",
   "metadata": {},
   "source": [
    "The data is reshaped one more time in order to suit the keras model's expected input dimensions. 2D input will be a single numpy array with dimensions (Number of training samples, 227, 227, 3), where the 3 represents the data channels. 3D input will be a single numpy array with dimensions (Number of training samples, 111, 111, 20, 3). "
   ]
  },
  {
   "cell_type": "code",
   "execution_count": 14,
   "metadata": {},
   "outputs": [],
   "source": [
    "if data_dimension == \"2d\":\n",
    "    training_images_final = np.array(training_images).reshape(len(training_images), WIDTH, HEIGHT, 3)\n",
    "    testing_images_final = np.array(testing_images).reshape(len(testing_images), WIDTH, HEIGHT, 3)\n",
    "\n",
    "elif data_dimension == \"3d\":\n",
    "    training_images_final = np.array(training_images).reshape(len(training_images), WIDTH, HEIGHT, DEPTH, 3)\n",
    "    testing_images_final = np.array(testing_images).reshape(len(testing_images), WIDTH, HEIGHT, DEPTH, 3)"
   ]
  },
  {
   "cell_type": "markdown",
   "metadata": {},
   "source": [
    "The image and label training and testing data are saved. This data is now ready to be fed into the CNN model with no more preprocessing."
   ]
  },
  {
   "cell_type": "code",
   "execution_count": 15,
   "metadata": {},
   "outputs": [],
   "source": [
    "np.save(\"{0}_training_data_{1}.npy\".format(data_dimension, normalization_method), training_images_final)\n",
    "np.save(\"{0}_training_labels_{1}.npy\".format(data_dimension, normalization_method), training_labels)\n",
    "np.save(\"{0}_testing_data_{1}.npy\".format(data_dimension, normalization_method), testing_images_final)\n",
    "np.save(\"{0}_testing_labels_{1}.npy\".format(data_dimension, normalization_method), testing_labels)"
   ]
  }
 ],
 "metadata": {
  "kernelspec": {
   "display_name": "Python 3",
   "language": "python",
   "name": "python3"
  },
  "language_info": {
   "codemirror_mode": {
    "name": "ipython",
    "version": 3
   },
   "file_extension": ".py",
   "mimetype": "text/x-python",
   "name": "python",
   "nbconvert_exporter": "python",
   "pygments_lexer": "ipython3",
   "version": "3.7.3"
  }
 },
 "nbformat": 4,
 "nbformat_minor": 4
}
