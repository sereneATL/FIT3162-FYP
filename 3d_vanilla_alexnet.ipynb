{
 "cells": [
  {
   "cell_type": "markdown",
   "metadata": {},
   "source": [
    "# 3D Vanilla Alexnet Training Script \n",
    "\n",
    "Here a 3D Alexnet model is implemeted using the parameters described in the original Alexnet paper. The architecture is similar to that of the 2D Alexnet, except expanded further across one dimension. The data loaded has gone through all the preprocessing steps and is ready to be fed into the CNN without any further steps.\n",
    "\n",
    "This data has been preprocessed using the normalization range of -1100, 600."
   ]
  },
  {
   "cell_type": "code",
   "execution_count": 1,
   "metadata": {},
   "outputs": [
    {
     "name": "stderr",
     "output_type": "stream",
     "text": [
      "Using TensorFlow backend.\n"
     ]
    }
   ],
   "source": [
    "import tensorflow as tf\n",
    "import numpy as np\n",
    "import keras\n",
    "from keras.models import load_model\n",
    "from tensorflow.python.keras.layers import Flatten, Conv3D, MaxPooling3D, Dropout, Input, Dense, Activation\n",
    "from tensorflow.python.keras.models import Sequential, load_model\n",
    "from keras.regularizers import l1, l2\n",
    "from keras.callbacks import EarlyStopping, ModelCheckpoint\n",
    "from keras.callbacks import LearningRateScheduler, ReduceLROnPlateau\n",
    "import matplotlib.pyplot as plt"
   ]
  },
  {
   "cell_type": "code",
   "execution_count": 2,
   "metadata": {},
   "outputs": [],
   "source": [
    "training_images_final = np.load(\"3d_training_data.npy\")\n",
    "training_labels = np.load(\"3d_training_labels.npy\")\n",
    "testing_images_final = np.load(\"3d_testing_data.npy\")\n",
    "testing_labels = np.load(\"3d_testing_labels.npy\")"
   ]
  },
  {
   "cell_type": "markdown",
   "metadata": {},
   "source": [
    "The callbacks are defined below.\n",
    "\n",
    "Early stopping monitors validation loss and automatically quits the training process if the validation loss has remained constant/has increased for 5 consecutive epochs. \n",
    "\n",
    "Model checkpoint saves the model that performs the best on the validation dataset.\n",
    "\n",
    "Lr_reduction reduces the learning rate by a factor of 0.1 every time the validation loss has remained constant/has increased for 2 consecutive epochs."
   ]
  },
  {
   "cell_type": "code",
   "execution_count": 3,
   "metadata": {},
   "outputs": [],
   "source": [
    "early_stopping = EarlyStopping(monitor='val_loss', patience=5, mode='min', verbose=1)\n",
    "model_checkpoint = ModelCheckpoint(filepath='3d_alexnet_vanilla.h5', monitor='val_loss', save_best_only=True, verbose=1)\n",
    "lr_reduction = ReduceLROnPlateau(monitor='val_loss', patience=2, verbose=1, factor=0.1, min_lr=0.00001)"
   ]
  },
  {
   "cell_type": "markdown",
   "metadata": {},
   "source": [
    "The model is implemented and trained below. Training logs were preserved.\n",
    "\n",
    "In accordance with the original parameters, weight decay is implemented, the learning rate is automatically decreased in training, and a SGD optimization function with a momentum of 0.9 is used. "
   ]
  },
  {
   "cell_type": "code",
   "execution_count": 4,
   "metadata": {},
   "outputs": [
    {
     "name": "stdout",
     "output_type": "stream",
     "text": [
      "Train on 1447 samples, validate on 161 samples\n",
      "Epoch 1/50\n",
      "1447/1447 [==============================] - 219s 151ms/sample - loss: 0.7717 - acc: 0.5259 - val_loss: 0.7715 - val_acc: 0.5963\n",
      "Epoch 2/50\n",
      "1447/1447 [==============================] - 216s 149ms/sample - loss: 0.7712 - acc: 0.5314 - val_loss: 0.7709 - val_acc: 0.5776\n",
      "Epoch 3/50\n",
      "1447/1447 [==============================] - 217s 150ms/sample - loss: 0.7707 - acc: 0.5411 - val_loss: 0.7702 - val_acc: 0.5652\n",
      "Epoch 4/50\n",
      "1447/1447 [==============================] - 217s 150ms/sample - loss: 0.7700 - acc: 0.5425 - val_loss: 0.7697 - val_acc: 0.4720\n",
      "Epoch 5/50\n",
      "1447/1447 [==============================] - 216s 149ms/sample - loss: 0.7696 - acc: 0.5280 - val_loss: 0.7690 - val_acc: 0.4845\n",
      "Epoch 6/50\n",
      "1447/1447 [==============================] - 216s 149ms/sample - loss: 0.7687 - acc: 0.5321 - val_loss: 0.7684 - val_acc: 0.4969\n",
      "Epoch 7/50\n",
      "1447/1447 [==============================] - 216s 149ms/sample - loss: 0.7679 - acc: 0.5439 - val_loss: 0.7675 - val_acc: 0.5776\n",
      "Epoch 8/50\n",
      "1447/1447 [==============================] - 216s 149ms/sample - loss: 0.7674 - acc: 0.5314 - val_loss: 0.7668 - val_acc: 0.5776\n",
      "Epoch 9/50\n",
      "1447/1447 [==============================] - 217s 150ms/sample - loss: 0.7664 - acc: 0.5701 - val_loss: 0.7660 - val_acc: 0.5652\n",
      "Epoch 10/50\n",
      "1447/1447 [==============================] - 217s 150ms/sample - loss: 0.7657 - acc: 0.5619 - val_loss: 0.7652 - val_acc: 0.5776\n",
      "Epoch 11/50\n",
      "1447/1447 [==============================] - 217s 150ms/sample - loss: 0.7651 - acc: 0.5536 - val_loss: 0.7642 - val_acc: 0.5652\n",
      "Epoch 12/50\n",
      "1447/1447 [==============================] - 216s 149ms/sample - loss: 0.7642 - acc: 0.5473 - val_loss: 0.7634 - val_acc: 0.5466\n",
      "Epoch 13/50\n",
      "1447/1447 [==============================] - 216s 149ms/sample - loss: 0.7629 - acc: 0.5812 - val_loss: 0.7623 - val_acc: 0.5776\n",
      "Epoch 14/50\n",
      "1447/1447 [==============================] - 215s 148ms/sample - loss: 0.7621 - acc: 0.5784 - val_loss: 0.7612 - val_acc: 0.5714\n",
      "Epoch 15/50\n",
      "1447/1447 [==============================] - 215s 149ms/sample - loss: 0.7608 - acc: 0.5701 - val_loss: 0.7601 - val_acc: 0.6025\n",
      "Epoch 16/50\n",
      "1447/1447 [==============================] - 216s 149ms/sample - loss: 0.7604 - acc: 0.5688 - val_loss: 0.7591 - val_acc: 0.6025\n",
      "Epoch 17/50\n",
      "1447/1447 [==============================] - 218s 150ms/sample - loss: 0.7588 - acc: 0.5771 - val_loss: 0.7579 - val_acc: 0.6273\n",
      "Epoch 18/50\n",
      "1447/1447 [==============================] - 216s 149ms/sample - loss: 0.7574 - acc: 0.5791 - val_loss: 0.7569 - val_acc: 0.5714\n",
      "Epoch 19/50\n",
      "1447/1447 [==============================] - 216s 149ms/sample - loss: 0.7554 - acc: 0.5805 - val_loss: 0.7557 - val_acc: 0.6211\n",
      "Epoch 20/50\n",
      "1447/1447 [==============================] - 217s 150ms/sample - loss: 0.7562 - acc: 0.5750 - val_loss: 0.7546 - val_acc: 0.5963\n",
      "Epoch 21/50\n",
      "1447/1447 [==============================] - 216s 149ms/sample - loss: 0.7549 - acc: 0.5750 - val_loss: 0.7536 - val_acc: 0.5839\n",
      "Epoch 22/50\n",
      "1447/1447 [==============================] - 217s 150ms/sample - loss: 0.7546 - acc: 0.5715 - val_loss: 0.7525 - val_acc: 0.6149\n",
      "Epoch 23/50\n",
      "1447/1447 [==============================] - 216s 150ms/sample - loss: 0.7549 - acc: 0.5549 - val_loss: 0.7524 - val_acc: 0.5652\n",
      "Epoch 24/50\n",
      "1447/1447 [==============================] - 217s 150ms/sample - loss: 0.7522 - acc: 0.5771 - val_loss: 0.7507 - val_acc: 0.5839\n",
      "Epoch 25/50\n",
      "1447/1447 [==============================] - 216s 150ms/sample - loss: 0.7505 - acc: 0.5819 - val_loss: 0.7498 - val_acc: 0.6273\n",
      "Epoch 26/50\n",
      "1447/1447 [==============================] - 216s 150ms/sample - loss: 0.7494 - acc: 0.5853 - val_loss: 0.7488 - val_acc: 0.5839\n",
      "Epoch 27/50\n",
      "1447/1447 [==============================] - 215s 149ms/sample - loss: 0.7496 - acc: 0.5798 - val_loss: 0.7477 - val_acc: 0.5839\n",
      "Epoch 28/50\n",
      "1447/1447 [==============================] - 216s 149ms/sample - loss: 0.7470 - acc: 0.5743 - val_loss: 0.7467 - val_acc: 0.5839\n",
      "Epoch 29/50\n",
      "1447/1447 [==============================] - 215s 149ms/sample - loss: 0.7475 - acc: 0.5847 - val_loss: 0.7457 - val_acc: 0.5839\n",
      "Epoch 30/50\n",
      "1447/1447 [==============================] - 216s 150ms/sample - loss: 0.7454 - acc: 0.5902 - val_loss: 0.7447 - val_acc: 0.5839\n",
      "Epoch 31/50\n",
      "1447/1447 [==============================] - 217s 150ms/sample - loss: 0.7454 - acc: 0.5750 - val_loss: 0.7445 - val_acc: 0.5652\n",
      "Epoch 32/50\n",
      "1447/1447 [==============================] - 217s 150ms/sample - loss: 0.7456 - acc: 0.5833 - val_loss: 0.7427 - val_acc: 0.5839\n",
      "Epoch 33/50\n",
      "1447/1447 [==============================] - 217s 150ms/sample - loss: 0.7420 - acc: 0.5964 - val_loss: 0.7418 - val_acc: 0.5963\n",
      "Epoch 34/50\n",
      "1447/1447 [==============================] - 216s 150ms/sample - loss: 0.7414 - acc: 0.5860 - val_loss: 0.7402 - val_acc: 0.5901\n",
      "Epoch 35/50\n",
      "1447/1447 [==============================] - 216s 149ms/sample - loss: 0.7410 - acc: 0.5853 - val_loss: 0.7389 - val_acc: 0.5901\n",
      "Epoch 36/50\n",
      "1447/1447 [==============================] - 216s 149ms/sample - loss: 0.7377 - acc: 0.5971 - val_loss: 0.7392 - val_acc: 0.6025\n",
      "Epoch 37/50\n",
      "1447/1447 [==============================] - 216s 150ms/sample - loss: 0.7403 - acc: 0.5847 - val_loss: 0.7359 - val_acc: 0.6211\n",
      "Epoch 38/50\n",
      "1447/1447 [==============================] - 215s 149ms/sample - loss: 0.7351 - acc: 0.6012 - val_loss: 0.7351 - val_acc: 0.6398\n",
      "Epoch 39/50\n",
      "1447/1447 [==============================] - 217s 150ms/sample - loss: 0.7329 - acc: 0.6095 - val_loss: 0.7314 - val_acc: 0.6273\n",
      "Epoch 40/50\n",
      "1447/1447 [==============================] - 217s 150ms/sample - loss: 0.7287 - acc: 0.6240 - val_loss: 0.7281 - val_acc: 0.6646\n",
      "Epoch 41/50\n",
      "1447/1447 [==============================] - 217s 150ms/sample - loss: 0.7260 - acc: 0.6220 - val_loss: 0.7240 - val_acc: 0.6646\n",
      "Epoch 42/50\n",
      "1447/1447 [==============================] - 216s 149ms/sample - loss: 0.7227 - acc: 0.6268 - val_loss: 0.7211 - val_acc: 0.6398\n",
      "Epoch 43/50\n",
      "1447/1447 [==============================] - 216s 149ms/sample - loss: 0.7160 - acc: 0.6317 - val_loss: 0.7210 - val_acc: 0.6211\n",
      "Epoch 44/50\n",
      "1447/1447 [==============================] - 215s 149ms/sample - loss: 0.7092 - acc: 0.6282 - val_loss: 0.7037 - val_acc: 0.6646\n",
      "Epoch 45/50\n",
      "1447/1447 [==============================] - 215s 149ms/sample - loss: 0.7112 - acc: 0.6289 - val_loss: 0.7490 - val_acc: 0.5528\n",
      "Epoch 46/50\n",
      "1447/1447 [==============================] - 217s 150ms/sample - loss: 0.7114 - acc: 0.6268 - val_loss: 0.7104 - val_acc: 0.6273\n",
      "Epoch 47/50\n",
      "1447/1447 [==============================] - 217s 150ms/sample - loss: 0.6951 - acc: 0.6455 - val_loss: 0.6915 - val_acc: 0.6584\n",
      "Epoch 48/50\n",
      "1447/1447 [==============================] - 215s 149ms/sample - loss: 0.6956 - acc: 0.6469 - val_loss: 0.6914 - val_acc: 0.6770\n",
      "Epoch 49/50\n",
      "1447/1447 [==============================] - 215s 149ms/sample - loss: 0.6869 - acc: 0.6586 - val_loss: 0.7512 - val_acc: 0.5776\n",
      "Epoch 50/50\n",
      "1447/1447 [==============================] - 217s 150ms/sample - loss: 0.7250 - acc: 0.6026 - val_loss: 0.6938 - val_acc: 0.6584\n"
     ]
    }
   ],
   "source": [
    "batch_size = 128\n",
    "no_epochs = 50\n",
    "learning_rate = 0.01\n",
    "no_classes = 2\n",
    "validation_split = 0.1\n",
    "verbosity = 1\n",
    "X_train = training_images_final\n",
    "callbacks = [early_stopping, lr_reduction]\n",
    "\n",
    "model = Sequential()\n",
    "\n",
    "model.add(Conv3D(filters=96, input_shape=(111, 111, 20, 3), kernel_size=(11,11,11), strides=(4,4,4), padding='valid', \n",
    "                ))\n",
    "model.add(Activation('relu'))\n",
    "model.add(MaxPooling3D(pool_size=(3,3,3), strides=(2,2,2), padding='same'))\n",
    "\n",
    "model.add(Conv3D(filters=256, kernel_size=(5,5,5), strides=(1,1,1), padding='same',\n",
    "                ))\n",
    "model.add(Activation('relu'))\n",
    "model.add(MaxPooling3D(pool_size=(3,3,3), strides=(2,2,2), padding='same'))\n",
    "\n",
    "model.add(Conv3D(filters=384, kernel_size=(3,3,3), strides=(1,1,1), padding='same',\n",
    "                ))\n",
    "model.add(Activation('relu'))\n",
    "\n",
    "model.add(Conv3D(filters=384, kernel_size=(3,3,3), strides=(1,1,1), padding='same',\n",
    "                ))\n",
    "model.add(Activation('relu'))\n",
    "\n",
    "model.add(Conv3D(filters=256, kernel_size=(3,3,3), strides=(1,1,1), padding='same',\n",
    "                ))\n",
    "model.add(Activation('relu'))\n",
    "model.add(MaxPooling3D(pool_size=(3,3,3), strides=(2,2,2), padding='same'))\n",
    "\n",
    "model.add(Flatten())\n",
    "\n",
    "model.add(Dense(4096, input_shape=(111*111*20*3,)))\n",
    "model.add(Activation('relu'))\n",
    "model.add(Dropout(0.5))\n",
    "\n",
    "model.add(Dense(4096))\n",
    "model.add(Activation('relu'))\n",
    "model.add(Dropout(0.5))\n",
    "\n",
    "model.add(Dense(no_classes, activation='softmax', kernel_regularizer=l1(0.0005)))\n",
    "\n",
    "model.compile(loss=keras.losses.binary_crossentropy, optimizer=tf.keras.optimizers.SGD(lr=learning_rate, momentum=0.9), metrics=['acc'])\n",
    "\n",
    "history = model.fit(X_train, training_labels,\n",
    "            batch_size=batch_size,\n",
    "            epochs=no_epochs,\n",
    "            verbose=verbosity,\n",
    "            validation_split=validation_split,\n",
    "            callbacks = callbacks\n",
    "            )\n"
   ]
  },
  {
   "cell_type": "code",
   "execution_count": 5,
   "metadata": {},
   "outputs": [
    {
     "data": {
      "image/png": "[encoded data removed]",
      "text/plain": [
       "<Figure size 432x288 with 1 Axes>"
      ]
     },
     "metadata": {
      "needs_background": "light"
     },
     "output_type": "display_data"
    }
   ],
   "source": [
    "plt.plot(history.history['acc'], label='Accuracy (training data)')\n",
    "plt.plot(history.history['val_acc'], label='Accuracy (validation data)')\n",
    "plt.title('Model performance for 3D CT Scan Cancer Detection')\n",
    "plt.ylabel('Loss value')\n",
    "plt.xlabel('No. epoch')\n",
    "plt.legend(loc=\"lower left\", bbox_to_anchor=(0.5,1.2))\n",
    "plt.show()"
   ]
  },
  {
   "cell_type": "markdown",
   "metadata": {},
   "source": [
    "The model has now been trained. It is then tested on unseen data in order to obtain the final testing accuracy."
   ]
  },
  {
   "cell_type": "code",
   "execution_count": 6,
   "metadata": {},
   "outputs": [
    {
     "name": "stdout",
     "output_type": "stream",
     "text": [
      "403/403 [==============================] - 3s 7ms/sample - loss: 0.7115 - acc: 0.6154\n",
      "Test results - Loss: 0.711491217536311 - Accuracy: 61.538463830947876%\n"
     ]
    }
   ],
   "source": [
    "test_results = model.evaluate(testing_images_final, testing_labels, verbose=1)\n",
    "print(f'Test results - Loss: {test_results[0]} - Accuracy: {test_results[1]*100}%')"
   ]
  },
  {
   "cell_type": "markdown",
   "metadata": {},
   "source": [
    "Finally, further performance metrics are evaluated using the functions below. These metrics are:\n",
    "\n",
    "Sensitivity: The ability of the model to classify a nodule as malignant when it is actually malignant (TP / (TP+FN))\n",
    "\n",
    "Specificity: The ability of the model to classify a nodule as benign when it is actually benign (TN/ (TN+FP))\n",
    "\n",
    "Precision: The accuracy of the model with regards to identifying malignant cases (i.e., how many of the predicted malignant nodules are actually malignant?) \n",
    "(TP / (TP+FP))"
   ]
  },
  {
   "cell_type": "code",
   "execution_count": 8,
   "metadata": {},
   "outputs": [],
   "source": [
    "# parameters:\n",
    "# arg1: labels: a list of one-hot encoded binary vectors corresponding to the actual labels of the testing data\n",
    "# arg2: positive: True for positive labels (i.e. malignant), False for negative labels (i.e. benign)\n",
    "\n",
    "# returns: \n",
    "# the number of malignant or benign cases in a one-hot encoded testing labels array\n",
    "\n",
    "def get_true_labels(labels,positive=True):\n",
    "    count = 0\n",
    "    if positive == True:\n",
    "        for x in labels:\n",
    "            if x[1] == 1:\n",
    "                count += 1\n",
    "    else:\n",
    "        for x in labels:\n",
    "            if x[1] == 0:\n",
    "                count += 1\n",
    "    return count\n",
    "\n",
    "# parameters:\n",
    "# arg1: actual_labels: a list of one-hot encoded binary vectors corresponding to the actual labels of the testing data\n",
    "# arg2: predicted_labels: a list of integers corresponding to the predictions of the model on the testing data (0=benign, 1=cancer)\n",
    "\n",
    "# returns: \n",
    "# the sensitivity of the model, defined as (TP / (TP+FN))\n",
    "\n",
    "def get_sensitivity(actual_labels, predicted_labels):\n",
    "    total_positives = get_true_labels(actual_labels)\n",
    "    true_positives = 0\n",
    "    for i in range(len(predicted_labels)):\n",
    "        if list(actual_labels[i]) == [0,1] and predicted_labels[i] == 1:\n",
    "            true_positives += 1\n",
    "    return true_positives/total_positives\n",
    "\n",
    "# parameters:\n",
    "# arg1: actual_labels: a list of one-hot encoded binary vectors corresponding to the actual labels of the testing data\n",
    "# arg2: predicted_labels: a list of integers corresponding to the predictions of the model on the testing data (0=benign, 1=cancer)\n",
    "\n",
    "# returns: \n",
    "# the specificity of the model, defined as (TN/ (TN+FP))\n",
    "\n",
    "def get_specificity(actual_labels, predicted_labels):\n",
    "    total_negatives = get_true_labels(actual_labels, False)\n",
    "    true_negatives = 0\n",
    "    for i in range(len(predicted_labels)):\n",
    "        if list(actual_labels[i]) == [1,0] and predicted_labels[i] == 0:\n",
    "            true_negatives += 1\n",
    "    return true_negatives/total_negatives\n",
    "\n",
    "# parameters:\n",
    "# arg1: actual_labels: a list of one-hot encoded binary vectors corresponding to the actual labels of the testing data\n",
    "# arg2: predicted_labels: a list of integers corresponding to the predictions of the model on the testing data (0=benign, 1=cancer)\n",
    "\n",
    "# returns: \n",
    "# the precision of the model, defined as (TP / (TP+FP))\n",
    "\n",
    "def get_precision(actual_labels, predicted_labels):\n",
    "    true_positives = 0\n",
    "    false_positives = 0\n",
    "    for i in range(len(predicted_labels)):\n",
    "        if list(actual_labels[i]) == [0,1] and predicted_labels[i] == 1:\n",
    "            true_positives += 1\n",
    "        if list(actual_labels[i]) == [1,0] and predicted_labels[i] == 1:\n",
    "            false_positives += 1\n",
    "    return true_positives/(true_positives+false_positives)"
   ]
  },
  {
   "cell_type": "markdown",
   "metadata": {},
   "source": [
    "The list of model predictions is obtained and, along with the actual labels, is used to derive the performance metrics of the model."
   ]
  },
  {
   "cell_type": "code",
   "execution_count": 9,
   "metadata": {},
   "outputs": [],
   "source": [
    "predicted_labels = model.predict_classes(testing_images_final)"
   ]
  },
  {
   "cell_type": "code",
   "execution_count": 10,
   "metadata": {},
   "outputs": [
    {
     "name": "stdout",
     "output_type": "stream",
     "text": [
      "0.350253807106599 0.8689320388349514 0.71875\n"
     ]
    }
   ],
   "source": [
    "sensitivity = get_sensitivity(testing_labels, predicted_labels)\n",
    "specificity = get_specificity(testing_labels, predicted_labels)\n",
    "precision = get_precision(testing_labels, predicted_labels)\n",
    "print(sensitivity, specificity, precision)"
   ]
  },
  {
   "cell_type": "markdown",
   "metadata": {},
   "source": [
    "Finally, the performance metrics are saved."
   ]
  },
  {
   "cell_type": "code",
   "execution_count": 11,
   "metadata": {},
   "outputs": [],
   "source": [
    "f= open(\"3d_AlexNet_Results_Vanilla.txt\",\"w+\")\n",
    "f.write(\"3D AlexNet Performance Metrics\\n\")\n",
    "f.write(\"Loss: {0}\\n\".format(test_results[0]))\n",
    "f.write(\"Accuracy: {0}\\n\".format(test_results[1]*100))\n",
    "f.write(\"Sensitivity: {0}\\n\".format(sensitivity))\n",
    "f.write(\"Specificity: {0}\\n\".format(specificity))\n",
    "f.write(\"Precision: {0}\\n\".format(precision))\n",
    "f.close()"
   ]
  },
  {
   "cell_type": "code",
   "execution_count": null,
   "metadata": {},
   "outputs": [],
   "source": [
    "model.save(\"3d_alexnet_vanilla.h5\")"
   ]
  }
 ],
 "metadata": {
  "kernelspec": {
   "display_name": "Python 3",
   "language": "python",
   "name": "python3"
  },
  "language_info": {
   "codemirror_mode": {
    "name": "ipython",
    "version": 3
   },
   "file_extension": ".py",
   "mimetype": "text/x-python",
   "name": "python",
   "nbconvert_exporter": "python",
   "pygments_lexer": "ipython3",
   "version": "3.7.3"
  }
 },
 "nbformat": 4,
 "nbformat_minor": 4
}
